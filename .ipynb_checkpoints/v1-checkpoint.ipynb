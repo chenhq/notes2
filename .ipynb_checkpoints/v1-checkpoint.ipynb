{
 "cells": [
  {
   "cell_type": "code",
   "execution_count": 59,
   "metadata": {},
   "outputs": [],
   "source": [
    "%matplotlib inline\n",
    "import pandas as pd\n",
    "import matplotlib.pyplot as plt\n",
    "import seaborn as sbn\n",
    "sbn.set()"
   ]
  },
  {
   "cell_type": "code",
   "execution_count": 2,
   "metadata": {},
   "outputs": [],
   "source": [
    "data_dir = '../data/'\n",
    "day_index1 = data_dir + '1day/index/2000_2009.csv'\n",
    "day_index2 = data_dir + '1day/index/2010_2016.csv'"
   ]
  },
  {
   "cell_type": "code",
   "execution_count": 3,
   "metadata": {},
   "outputs": [],
   "source": [
    "indexes = pd.read_csv(day_index2,encoding='gbk', parse_dates=['date'])"
   ]
  },
  {
   "cell_type": "code",
   "execution_count": 4,
   "metadata": {
    "collapsed": true
   },
   "outputs": [],
   "source": [
    "for column in ['open', 'high', 'low', 'close']:\n",
    "    indexes[column] = indexes[column] / 10000.0"
   ]
  },
  {
   "cell_type": "code",
   "execution_count": 5,
   "metadata": {},
   "outputs": [
    {
     "data": {
      "text/html": [
       "<div>\n",
       "<style>\n",
       "    .dataframe thead tr:only-child th {\n",
       "        text-align: right;\n",
       "    }\n",
       "\n",
       "    .dataframe thead th {\n",
       "        text-align: left;\n",
       "    }\n",
       "\n",
       "    .dataframe tbody tr th {\n",
       "        vertical-align: top;\n",
       "    }\n",
       "</style>\n",
       "<table border=\"1\" class=\"dataframe\">\n",
       "  <thead>\n",
       "    <tr style=\"text-align: right;\">\n",
       "      <th></th>\n",
       "      <th>code</th>\n",
       "      <th>wind_code</th>\n",
       "      <th>name</th>\n",
       "      <th>date</th>\n",
       "      <th>time</th>\n",
       "      <th>open</th>\n",
       "      <th>high</th>\n",
       "      <th>low</th>\n",
       "      <th>close</th>\n",
       "      <th>volumw</th>\n",
       "      <th>turover</th>\n",
       "      <th>match_items</th>\n",
       "      <th>interest</th>\n",
       "    </tr>\n",
       "  </thead>\n",
       "  <tbody>\n",
       "    <tr>\n",
       "      <th>0</th>\n",
       "      <td>300</td>\n",
       "      <td>000300.SH</td>\n",
       "      <td>沪深300</td>\n",
       "      <td>2010-01-04</td>\n",
       "      <td>150109000</td>\n",
       "      <td>3592.4675</td>\n",
       "      <td>3597.7475</td>\n",
       "      <td>3535.2285</td>\n",
       "      <td>3535.2285</td>\n",
       "      <td>6610107900</td>\n",
       "      <td>93419838000</td>\n",
       "      <td>0</td>\n",
       "      <td>0</td>\n",
       "    </tr>\n",
       "    <tr>\n",
       "      <th>1</th>\n",
       "      <td>300</td>\n",
       "      <td>000300.SH</td>\n",
       "      <td>沪深300</td>\n",
       "      <td>2010-01-05</td>\n",
       "      <td>150106000</td>\n",
       "      <td>3545.1856</td>\n",
       "      <td>3577.5256</td>\n",
       "      <td>3497.6611</td>\n",
       "      <td>3564.0381</td>\n",
       "      <td>8580964000</td>\n",
       "      <td>128302442000</td>\n",
       "      <td>0</td>\n",
       "      <td>0</td>\n",
       "    </tr>\n",
       "    <tr>\n",
       "      <th>2</th>\n",
       "      <td>300</td>\n",
       "      <td>000300.SH</td>\n",
       "      <td>沪深300</td>\n",
       "      <td>2010-01-06</td>\n",
       "      <td>150105000</td>\n",
       "      <td>3558.6998</td>\n",
       "      <td>3588.8319</td>\n",
       "      <td>3541.1734</td>\n",
       "      <td>3541.7268</td>\n",
       "      <td>7847312400</td>\n",
       "      <td>121045989000</td>\n",
       "      <td>0</td>\n",
       "      <td>0</td>\n",
       "    </tr>\n",
       "    <tr>\n",
       "      <th>3</th>\n",
       "      <td>300</td>\n",
       "      <td>000300.SH</td>\n",
       "      <td>沪深300</td>\n",
       "      <td>2010-01-07</td>\n",
       "      <td>150106000</td>\n",
       "      <td>3543.1595</td>\n",
       "      <td>3558.5563</td>\n",
       "      <td>3452.7688</td>\n",
       "      <td>3471.4559</td>\n",
       "      <td>8035003700</td>\n",
       "      <td>120436166000</td>\n",
       "      <td>0</td>\n",
       "      <td>0</td>\n",
       "    </tr>\n",
       "    <tr>\n",
       "      <th>4</th>\n",
       "      <td>300</td>\n",
       "      <td>000300.SH</td>\n",
       "      <td>沪深300</td>\n",
       "      <td>2010-01-08</td>\n",
       "      <td>150110000</td>\n",
       "      <td>3456.9083</td>\n",
       "      <td>3482.0826</td>\n",
       "      <td>3426.6978</td>\n",
       "      <td>3480.1301</td>\n",
       "      <td>6079025200</td>\n",
       "      <td>90190959000</td>\n",
       "      <td>0</td>\n",
       "      <td>0</td>\n",
       "    </tr>\n",
       "  </tbody>\n",
       "</table>\n",
       "</div>"
      ],
      "text/plain": [
       "   code  wind_code   name       date       time       open       high  \\\n",
       "0   300  000300.SH  沪深300 2010-01-04  150109000  3592.4675  3597.7475   \n",
       "1   300  000300.SH  沪深300 2010-01-05  150106000  3545.1856  3577.5256   \n",
       "2   300  000300.SH  沪深300 2010-01-06  150105000  3558.6998  3588.8319   \n",
       "3   300  000300.SH  沪深300 2010-01-07  150106000  3543.1595  3558.5563   \n",
       "4   300  000300.SH  沪深300 2010-01-08  150110000  3456.9083  3482.0826   \n",
       "\n",
       "         low      close      volumw       turover  match_items  interest  \n",
       "0  3535.2285  3535.2285  6610107900   93419838000            0         0  \n",
       "1  3497.6611  3564.0381  8580964000  128302442000            0         0  \n",
       "2  3541.1734  3541.7268  7847312400  121045989000            0         0  \n",
       "3  3452.7688  3471.4559  8035003700  120436166000            0         0  \n",
       "4  3426.6978  3480.1301  6079025200   90190959000            0         0  "
      ]
     },
     "execution_count": 5,
     "metadata": {},
     "output_type": "execute_result"
    }
   ],
   "source": [
    "indexes.head()"
   ]
  },
  {
   "cell_type": "code",
   "execution_count": 42,
   "metadata": {},
   "outputs": [],
   "source": [
    "idx300 = indexes[indexes['code']==300].copy()"
   ]
  },
  {
   "cell_type": "code",
   "execution_count": 43,
   "metadata": {},
   "outputs": [],
   "source": [
    "idx300.set_index(['date'], inplace=True)"
   ]
  },
  {
   "cell_type": "code",
   "execution_count": 44,
   "metadata": {},
   "outputs": [
    {
     "data": {
      "text/html": [
       "<div>\n",
       "<style>\n",
       "    .dataframe thead tr:only-child th {\n",
       "        text-align: right;\n",
       "    }\n",
       "\n",
       "    .dataframe thead th {\n",
       "        text-align: left;\n",
       "    }\n",
       "\n",
       "    .dataframe tbody tr th {\n",
       "        vertical-align: top;\n",
       "    }\n",
       "</style>\n",
       "<table border=\"1\" class=\"dataframe\">\n",
       "  <thead>\n",
       "    <tr style=\"text-align: right;\">\n",
       "      <th></th>\n",
       "      <th>code</th>\n",
       "      <th>wind_code</th>\n",
       "      <th>name</th>\n",
       "      <th>time</th>\n",
       "      <th>open</th>\n",
       "      <th>high</th>\n",
       "      <th>low</th>\n",
       "      <th>close</th>\n",
       "      <th>volumw</th>\n",
       "      <th>turover</th>\n",
       "      <th>match_items</th>\n",
       "      <th>interest</th>\n",
       "    </tr>\n",
       "    <tr>\n",
       "      <th>date</th>\n",
       "      <th></th>\n",
       "      <th></th>\n",
       "      <th></th>\n",
       "      <th></th>\n",
       "      <th></th>\n",
       "      <th></th>\n",
       "      <th></th>\n",
       "      <th></th>\n",
       "      <th></th>\n",
       "      <th></th>\n",
       "      <th></th>\n",
       "      <th></th>\n",
       "    </tr>\n",
       "  </thead>\n",
       "  <tbody>\n",
       "    <tr>\n",
       "      <th>2010-01-04</th>\n",
       "      <td>300</td>\n",
       "      <td>000300.SH</td>\n",
       "      <td>沪深300</td>\n",
       "      <td>150109000</td>\n",
       "      <td>3592.4675</td>\n",
       "      <td>3597.7475</td>\n",
       "      <td>3535.2285</td>\n",
       "      <td>3535.2285</td>\n",
       "      <td>6610107900</td>\n",
       "      <td>93419838000</td>\n",
       "      <td>0</td>\n",
       "      <td>0</td>\n",
       "    </tr>\n",
       "    <tr>\n",
       "      <th>2010-01-05</th>\n",
       "      <td>300</td>\n",
       "      <td>000300.SH</td>\n",
       "      <td>沪深300</td>\n",
       "      <td>150106000</td>\n",
       "      <td>3545.1856</td>\n",
       "      <td>3577.5256</td>\n",
       "      <td>3497.6611</td>\n",
       "      <td>3564.0381</td>\n",
       "      <td>8580964000</td>\n",
       "      <td>128302442000</td>\n",
       "      <td>0</td>\n",
       "      <td>0</td>\n",
       "    </tr>\n",
       "    <tr>\n",
       "      <th>2010-01-06</th>\n",
       "      <td>300</td>\n",
       "      <td>000300.SH</td>\n",
       "      <td>沪深300</td>\n",
       "      <td>150105000</td>\n",
       "      <td>3558.6998</td>\n",
       "      <td>3588.8319</td>\n",
       "      <td>3541.1734</td>\n",
       "      <td>3541.7268</td>\n",
       "      <td>7847312400</td>\n",
       "      <td>121045989000</td>\n",
       "      <td>0</td>\n",
       "      <td>0</td>\n",
       "    </tr>\n",
       "    <tr>\n",
       "      <th>2010-01-07</th>\n",
       "      <td>300</td>\n",
       "      <td>000300.SH</td>\n",
       "      <td>沪深300</td>\n",
       "      <td>150106000</td>\n",
       "      <td>3543.1595</td>\n",
       "      <td>3558.5563</td>\n",
       "      <td>3452.7688</td>\n",
       "      <td>3471.4559</td>\n",
       "      <td>8035003700</td>\n",
       "      <td>120436166000</td>\n",
       "      <td>0</td>\n",
       "      <td>0</td>\n",
       "    </tr>\n",
       "    <tr>\n",
       "      <th>2010-01-08</th>\n",
       "      <td>300</td>\n",
       "      <td>000300.SH</td>\n",
       "      <td>沪深300</td>\n",
       "      <td>150110000</td>\n",
       "      <td>3456.9083</td>\n",
       "      <td>3482.0826</td>\n",
       "      <td>3426.6978</td>\n",
       "      <td>3480.1301</td>\n",
       "      <td>6079025200</td>\n",
       "      <td>90190959000</td>\n",
       "      <td>0</td>\n",
       "      <td>0</td>\n",
       "    </tr>\n",
       "  </tbody>\n",
       "</table>\n",
       "</div>"
      ],
      "text/plain": [
       "            code  wind_code   name       time       open       high  \\\n",
       "date                                                                  \n",
       "2010-01-04   300  000300.SH  沪深300  150109000  3592.4675  3597.7475   \n",
       "2010-01-05   300  000300.SH  沪深300  150106000  3545.1856  3577.5256   \n",
       "2010-01-06   300  000300.SH  沪深300  150105000  3558.6998  3588.8319   \n",
       "2010-01-07   300  000300.SH  沪深300  150106000  3543.1595  3558.5563   \n",
       "2010-01-08   300  000300.SH  沪深300  150110000  3456.9083  3482.0826   \n",
       "\n",
       "                  low      close      volumw       turover  match_items  \\\n",
       "date                                                                      \n",
       "2010-01-04  3535.2285  3535.2285  6610107900   93419838000            0   \n",
       "2010-01-05  3497.6611  3564.0381  8580964000  128302442000            0   \n",
       "2010-01-06  3541.1734  3541.7268  7847312400  121045989000            0   \n",
       "2010-01-07  3452.7688  3471.4559  8035003700  120436166000            0   \n",
       "2010-01-08  3426.6978  3480.1301  6079025200   90190959000            0   \n",
       "\n",
       "            interest  \n",
       "date                  \n",
       "2010-01-04         0  \n",
       "2010-01-05         0  \n",
       "2010-01-06         0  \n",
       "2010-01-07         0  \n",
       "2010-01-08         0  "
      ]
     },
     "execution_count": 44,
     "metadata": {},
     "output_type": "execute_result"
    }
   ],
   "source": [
    "idx300.head()"
   ]
  },
  {
   "cell_type": "code",
   "execution_count": 48,
   "metadata": {},
   "outputs": [],
   "source": [
    "idx300n = pd.DataFrame()\n",
    "for column in ['open', 'high', 'low', 'close']:\n",
    "    pre_close = idx300['close'].shift(1)\n",
    "    idx300n[column] = (idx300[column] - pre_close) / pre_close"
   ]
  },
  {
   "cell_type": "code",
   "execution_count": 49,
   "metadata": {},
   "outputs": [],
   "source": [
    "idx300n.dropna(inplace=True)"
   ]
  },
  {
   "cell_type": "code",
   "execution_count": 150,
   "metadata": {},
   "outputs": [],
   "source": [
    "idx300n = idx300n * 100.0"
   ]
  },
  {
   "cell_type": "code",
   "execution_count": 147,
   "metadata": {},
   "outputs": [],
   "source": [
    "idx300n['class'] = idx300n['close'].shift(-1)"
   ]
  },
  {
   "cell_type": "code",
   "execution_count": 189,
   "metadata": {},
   "outputs": [],
   "source": [
    "idx300n.dropna(inplace=True)"
   ]
  },
  {
   "cell_type": "code",
   "execution_count": 191,
   "metadata": {},
   "outputs": [
    {
     "data": {
      "text/html": [
       "<div>\n",
       "<style>\n",
       "    .dataframe thead tr:only-child th {\n",
       "        text-align: right;\n",
       "    }\n",
       "\n",
       "    .dataframe thead th {\n",
       "        text-align: left;\n",
       "    }\n",
       "\n",
       "    .dataframe tbody tr th {\n",
       "        vertical-align: top;\n",
       "    }\n",
       "</style>\n",
       "<table border=\"1\" class=\"dataframe\">\n",
       "  <thead>\n",
       "    <tr style=\"text-align: right;\">\n",
       "      <th></th>\n",
       "      <th>open</th>\n",
       "      <th>high</th>\n",
       "      <th>low</th>\n",
       "      <th>close</th>\n",
       "      <th>class</th>\n",
       "    </tr>\n",
       "    <tr>\n",
       "      <th>date</th>\n",
       "      <th></th>\n",
       "      <th></th>\n",
       "      <th></th>\n",
       "      <th></th>\n",
       "      <th></th>\n",
       "    </tr>\n",
       "  </thead>\n",
       "  <tbody>\n",
       "    <tr>\n",
       "      <th>2010-01-05</th>\n",
       "      <td>0.281654</td>\n",
       "      <td>1.196446</td>\n",
       "      <td>-1.062658</td>\n",
       "      <td>0.814929</td>\n",
       "      <td>-0.626012</td>\n",
       "    </tr>\n",
       "    <tr>\n",
       "      <th>2010-01-06</th>\n",
       "      <td>-0.149782</td>\n",
       "      <td>0.695666</td>\n",
       "      <td>-0.641539</td>\n",
       "      <td>-0.626012</td>\n",
       "      <td>-1.984086</td>\n",
       "    </tr>\n",
       "    <tr>\n",
       "      <th>2010-01-07</th>\n",
       "      <td>0.040452</td>\n",
       "      <td>0.475178</td>\n",
       "      <td>-2.511713</td>\n",
       "      <td>-1.984086</td>\n",
       "      <td>0.249872</td>\n",
       "    </tr>\n",
       "    <tr>\n",
       "      <th>2010-01-08</th>\n",
       "      <td>-0.419063</td>\n",
       "      <td>0.306117</td>\n",
       "      <td>-1.289318</td>\n",
       "      <td>0.249872</td>\n",
       "      <td>0.055234</td>\n",
       "    </tr>\n",
       "    <tr>\n",
       "      <th>2010-01-11</th>\n",
       "      <td>3.246304</td>\n",
       "      <td>3.287159</td>\n",
       "      <td>-0.425645</td>\n",
       "      <td>0.055234</td>\n",
       "      <td>1.518179</td>\n",
       "    </tr>\n",
       "  </tbody>\n",
       "</table>\n",
       "</div>"
      ],
      "text/plain": [
       "                open      high       low     close     class\n",
       "date                                                        \n",
       "2010-01-05  0.281654  1.196446 -1.062658  0.814929 -0.626012\n",
       "2010-01-06 -0.149782  0.695666 -0.641539 -0.626012 -1.984086\n",
       "2010-01-07  0.040452  0.475178 -2.511713 -1.984086  0.249872\n",
       "2010-01-08 -0.419063  0.306117 -1.289318  0.249872  0.055234\n",
       "2010-01-11  3.246304  3.287159 -0.425645  0.055234  1.518179"
      ]
     },
     "execution_count": 191,
     "metadata": {},
     "output_type": "execute_result"
    }
   ],
   "source": [
    "idx300n.head()"
   ]
  },
  {
   "cell_type": "code",
   "execution_count": 184,
   "metadata": {},
   "outputs": [],
   "source": [
    "div_class = [-0.8, -0.5, -0.2, 0.2, 0.5, 0.8]\n",
    "type_class = [-3, -2, -1, 0, 1, 2, 3]\n",
    "def to_class(x):\n",
    "    c = 0\n",
    "    if x <= div_class[0]:\n",
    "        c = type_class[0]\n",
    "    elif div_class[0] <= x < div_class[1]:\n",
    "        c = type_class[1]\n",
    "    elif div_class[1] <= x < div_class[2]:\n",
    "        c = type_class[2]\n",
    "    elif div_class[2] <= x < div_class[3]:\n",
    "        c = type_class[3]\n",
    "    elif div_class[3] <= x < div_class[4]:\n",
    "        c = type_class[4]\n",
    "    elif div_class[4] <= x < div_class[5]:\n",
    "        c = type_class[5]\n",
    "    elif x >= div_class[5]:\n",
    "        c = type_class[6]\n",
    "    else:\n",
    "        print(x)\n",
    "        print(\"Error\")\n",
    "    return c"
   ]
  },
  {
   "cell_type": "code",
   "execution_count": 195,
   "metadata": {},
   "outputs": [],
   "source": [
    "idx300n['class']= idx300n['class'].map(to_class)"
   ]
  },
  {
   "cell_type": "code",
   "execution_count": 196,
   "metadata": {},
   "outputs": [
    {
     "data": {
      "text/html": [
       "<div>\n",
       "<style>\n",
       "    .dataframe thead tr:only-child th {\n",
       "        text-align: right;\n",
       "    }\n",
       "\n",
       "    .dataframe thead th {\n",
       "        text-align: left;\n",
       "    }\n",
       "\n",
       "    .dataframe tbody tr th {\n",
       "        vertical-align: top;\n",
       "    }\n",
       "</style>\n",
       "<table border=\"1\" class=\"dataframe\">\n",
       "  <thead>\n",
       "    <tr style=\"text-align: right;\">\n",
       "      <th></th>\n",
       "      <th>open</th>\n",
       "      <th>high</th>\n",
       "      <th>low</th>\n",
       "      <th>close</th>\n",
       "      <th>class</th>\n",
       "    </tr>\n",
       "    <tr>\n",
       "      <th>date</th>\n",
       "      <th></th>\n",
       "      <th></th>\n",
       "      <th></th>\n",
       "      <th></th>\n",
       "      <th></th>\n",
       "    </tr>\n",
       "  </thead>\n",
       "  <tbody>\n",
       "    <tr>\n",
       "      <th>2010-01-05</th>\n",
       "      <td>0.281654</td>\n",
       "      <td>1.196446</td>\n",
       "      <td>-1.062658</td>\n",
       "      <td>0.814929</td>\n",
       "      <td>-2</td>\n",
       "    </tr>\n",
       "    <tr>\n",
       "      <th>2010-01-06</th>\n",
       "      <td>-0.149782</td>\n",
       "      <td>0.695666</td>\n",
       "      <td>-0.641539</td>\n",
       "      <td>-0.626012</td>\n",
       "      <td>-3</td>\n",
       "    </tr>\n",
       "    <tr>\n",
       "      <th>2010-01-07</th>\n",
       "      <td>0.040452</td>\n",
       "      <td>0.475178</td>\n",
       "      <td>-2.511713</td>\n",
       "      <td>-1.984086</td>\n",
       "      <td>1</td>\n",
       "    </tr>\n",
       "    <tr>\n",
       "      <th>2010-01-08</th>\n",
       "      <td>-0.419063</td>\n",
       "      <td>0.306117</td>\n",
       "      <td>-1.289318</td>\n",
       "      <td>0.249872</td>\n",
       "      <td>0</td>\n",
       "    </tr>\n",
       "    <tr>\n",
       "      <th>2010-01-11</th>\n",
       "      <td>3.246304</td>\n",
       "      <td>3.287159</td>\n",
       "      <td>-0.425645</td>\n",
       "      <td>0.055234</td>\n",
       "      <td>3</td>\n",
       "    </tr>\n",
       "  </tbody>\n",
       "</table>\n",
       "</div>"
      ],
      "text/plain": [
       "                open      high       low     close  class\n",
       "date                                                     \n",
       "2010-01-05  0.281654  1.196446 -1.062658  0.814929     -2\n",
       "2010-01-06 -0.149782  0.695666 -0.641539 -0.626012     -3\n",
       "2010-01-07  0.040452  0.475178 -2.511713 -1.984086      1\n",
       "2010-01-08 -0.419063  0.306117 -1.289318  0.249872      0\n",
       "2010-01-11  3.246304  3.287159 -0.425645  0.055234      3"
      ]
     },
     "execution_count": 196,
     "metadata": {},
     "output_type": "execute_result"
    }
   ],
   "source": [
    "idx300n.head()"
   ]
  },
  {
   "cell_type": "code",
   "execution_count": 197,
   "metadata": {},
   "outputs": [
    {
     "data": {
      "text/plain": [
       "<matplotlib.axes._subplots.AxesSubplot at 0x7f2511b99a90>"
      ]
     },
     "execution_count": 197,
     "metadata": {},
     "output_type": "execute_result"
    },
    {
     "data": {
      "image/png": "[encoded data removed]",
      "text/plain": [
       "<matplotlib.figure.Figure at 0x7f2511b990f0>"
      ]
     },
     "metadata": {},
     "output_type": "display_data"
    }
   ],
   "source": [
    "idx300n['close'].tail(100).plot(figsize=(21, 7))"
   ]
  },
  {
   "cell_type": "code",
   "execution_count": 138,
   "metadata": {},
   "outputs": [],
   "source": [
    "from keras.models import Sequential\n",
    "from keras.layers import LSTM, Dense, Dropout"
   ]
  },
  {
   "cell_type": "code",
   "execution_count": 139,
   "metadata": {
    "collapsed": true
   },
   "outputs": [],
   "source": [
    "model = Sequential()"
   ]
  },
  {
   "cell_type": "code",
   "execution_count": 140,
   "metadata": {
    "collapsed": true
   },
   "outputs": [],
   "source": [
    "units = 32\n",
    "time_steps = 40\n",
    "dim_input_vector = 4\n",
    "no_classes = 5\n",
    "#(batch_size, timesteps, input_dim)\n",
    "input_shape = ()\n",
    "batch_input_shape=()"
   ]
  },
  {
   "cell_type": "code",
   "execution_count": 141,
   "metadata": {},
   "outputs": [],
   "source": [
    "model.add(LSTM(units, activation='relu', dropout=0.5, return_sequences=True, input_shape=(time_steps,dim_input_vector)))"
   ]
  },
  {
   "cell_type": "code",
   "execution_count": 142,
   "metadata": {
    "collapsed": true
   },
   "outputs": [],
   "source": [
    "model.add(LSTM(units, activation='relu', dropout=0.5, return_sequences=True))"
   ]
  },
  {
   "cell_type": "code",
   "execution_count": 143,
   "metadata": {},
   "outputs": [],
   "source": [
    "model.add(Dense(no_classes, activation='softmax'))"
   ]
  },
  {
   "cell_type": "code",
   "execution_count": 144,
   "metadata": {
    "collapsed": true
   },
   "outputs": [],
   "source": [
    "model.compile(optimizer='rmsprop', loss='categorical_crossentropy', metrics=['accuracy'])"
   ]
  },
  {
   "cell_type": "code",
   "execution_count": 145,
   "metadata": {},
   "outputs": [
    {
     "name": "stdout",
     "output_type": "stream",
     "text": [
      "_________________________________________________________________\n",
      "Layer (type)                 Output Shape              Param #   \n",
      "=================================================================\n",
      "lstm_19 (LSTM)               (None, 40, 32)            4736      \n",
      "_________________________________________________________________\n",
      "lstm_20 (LSTM)               (None, 40, 32)            8320      \n",
      "_________________________________________________________________\n",
      "dense_6 (Dense)              (None, 40, 5)             165       \n",
      "=================================================================\n",
      "Total params: 13,221\n",
      "Trainable params: 13,221\n",
      "Non-trainable params: 0\n",
      "_________________________________________________________________\n"
     ]
    }
   ],
   "source": [
    "model.summary()"
   ]
  },
  {
   "cell_type": "code",
   "execution_count": null,
   "metadata": {
    "collapsed": true
   },
   "outputs": [],
   "source": []
  }
 ],
 "metadata": {
  "kernelspec": {
   "display_name": "Python 3",
   "language": "python",
   "name": "python3"
  },
  "language_info": {
   "codemirror_mode": {
    "name": "ipython",
    "version": 3
   },
   "file_extension": ".py",
   "mimetype": "text/x-python",
   "name": "python",
   "nbconvert_exporter": "python",
   "pygments_lexer": "ipython3",
   "version": "3.5.3"
  }
 },
 "nbformat": 4,
 "nbformat_minor": 2
}
