{
 "cells": [
  {
   "cell_type": "code",
   "execution_count": 1,
   "metadata": {
    "collapsed": true
   },
   "outputs": [],
   "source": [
    "from influxdb import InfluxDBClient"
   ]
  },
  {
   "cell_type": "code",
   "execution_count": 2,
   "metadata": {
    "collapsed": true
   },
   "outputs": [],
   "source": [
    "def main(host='localhost', port=8086):\n",
    "    user = 'root'\n",
    "    password = 'root'\n",
    "    dbname = 'example'\n",
    "    dbuser = 'chenhq'\n",
    "    dbuser_password = 'jianfengg'\n",
    "    query = 'select value from cpu_load_short;'\n",
    "    json_body = [\n",
    "        {\n",
    "            \"measurement\": \"cpu_load_short\",\n",
    "            \"tags\": {\n",
    "                \"host\": \"server01\",\n",
    "                \"region\": \"us-west\"\n",
    "            },\n",
    "            \"time\": \"2009-11-10T23:00:00Z\",\n",
    "            \"fields\": {\n",
    "                \"Float_value\": 0.64,\n",
    "                \"Int_value\": 3,\n",
    "                \"String_value\": \"Text\",\n",
    "                \"Bool_value\": True\n",
    "            }\n",
    "        }\n",
    "    ]\n",
    "\n",
    "    client = InfluxDBClient(host, port, user, password, dbname)\n",
    "\n",
    "    print(\"Create database: \" + dbname)\n",
    "    client.create_database(dbname)\n",
    "\n",
    "    print(\"Create a retention policy\")\n",
    "    client.create_retention_policy('awesome_policy', '3d', 3, default=True)\n",
    "\n",
    "    print(\"Switch user: \" + dbuser)\n",
    "    client.switch_user(dbuser, dbuser_password)\n",
    "\n",
    "    print(\"Write points: {0}\".format(json_body))\n",
    "    client.write_points(json_body)\n",
    "\n",
    "    print(\"Queying data: \" + query)\n",
    "    result = client.query(query)\n",
    "\n",
    "    print(\"Result: {0}\".format(result))\n",
    "\n",
    "    print(\"Switch user: \" + user)\n",
    "    client.switch_user(user, password)\n",
    "\n",
    "    print(\"Drop database: \" + dbname)\n",
    "    client.drop_database(dbname)"
   ]
  },
  {
   "cell_type": "code",
   "execution_count": 3,
   "metadata": {},
   "outputs": [
    {
     "name": "stdout",
     "output_type": "stream",
     "text": [
      "Create database: example\n",
      "Create a retention policy\n",
      "Switch user: smly\n",
      "Write points: [{'tags': {'host': 'server01', 'region': 'us-west'}, 'time': '2009-11-10T23:00:00Z', 'fields': {'Float_value': 0.64, 'String_value': 'Text', 'Bool_value': True, 'Int_value': 3}, 'measurement': 'cpu_load_short'}]\n"
     ]
    },
    {
     "ename": "InfluxDBClientError",
     "evalue": "400: {\"error\":\"partial write: points beyond retention policy dropped=1\"}\n",
     "output_type": "error",
     "traceback": [
      "\u001b[0;31m---------------------------------------------------------------------------\u001b[0m",
      "\u001b[0;31mInfluxDBClientError\u001b[0m                       Traceback (most recent call last)",
      "\u001b[0;32m<ipython-input-3-30616aec3b1d>\u001b[0m in \u001b[0;36m<module>\u001b[0;34m()\u001b[0m\n\u001b[0;32m----> 1\u001b[0;31m \u001b[0mmain\u001b[0m\u001b[0;34m(\u001b[0m\u001b[0;34m\"183.136.205.102\"\u001b[0m\u001b[0;34m,\u001b[0m \u001b[0;36m38086\u001b[0m\u001b[0;34m)\u001b[0m\u001b[0;34m\u001b[0m\u001b[0m\n\u001b[0m",
      "\u001b[0;32m<ipython-input-2-916df9feff7e>\u001b[0m in \u001b[0;36mmain\u001b[0;34m(host, port)\u001b[0m\n\u001b[1;32m     35\u001b[0m \u001b[0;34m\u001b[0m\u001b[0m\n\u001b[1;32m     36\u001b[0m     \u001b[0mprint\u001b[0m\u001b[0;34m(\u001b[0m\u001b[0;34m\"Write points: {0}\"\u001b[0m\u001b[0;34m.\u001b[0m\u001b[0mformat\u001b[0m\u001b[0;34m(\u001b[0m\u001b[0mjson_body\u001b[0m\u001b[0;34m)\u001b[0m\u001b[0;34m)\u001b[0m\u001b[0;34m\u001b[0m\u001b[0m\n\u001b[0;32m---> 37\u001b[0;31m     \u001b[0mclient\u001b[0m\u001b[0;34m.\u001b[0m\u001b[0mwrite_points\u001b[0m\u001b[0;34m(\u001b[0m\u001b[0mjson_body\u001b[0m\u001b[0;34m)\u001b[0m\u001b[0;34m\u001b[0m\u001b[0m\n\u001b[0m\u001b[1;32m     38\u001b[0m \u001b[0;34m\u001b[0m\u001b[0m\n\u001b[1;32m     39\u001b[0m     \u001b[0mprint\u001b[0m\u001b[0;34m(\u001b[0m\u001b[0;34m\"Queying data: \"\u001b[0m \u001b[0;34m+\u001b[0m \u001b[0mquery\u001b[0m\u001b[0;34m)\u001b[0m\u001b[0;34m\u001b[0m\u001b[0m\n",
      "\u001b[0;32m~/.pyenv/versions/3.5.3/lib/python3.5/site-packages/influxdb/client.py\u001b[0m in \u001b[0;36mwrite_points\u001b[0;34m(self, points, time_precision, database, retention_policy, tags, batch_size, protocol)\u001b[0m\n\u001b[1;32m    454\u001b[0m                                       \u001b[0mdatabase\u001b[0m\u001b[0;34m=\u001b[0m\u001b[0mdatabase\u001b[0m\u001b[0;34m,\u001b[0m\u001b[0;34m\u001b[0m\u001b[0m\n\u001b[1;32m    455\u001b[0m                                       \u001b[0mretention_policy\u001b[0m\u001b[0;34m=\u001b[0m\u001b[0mretention_policy\u001b[0m\u001b[0;34m,\u001b[0m\u001b[0;34m\u001b[0m\u001b[0m\n\u001b[0;32m--> 456\u001b[0;31m                                       tags=tags, protocol=protocol)\n\u001b[0m\u001b[1;32m    457\u001b[0m \u001b[0;34m\u001b[0m\u001b[0m\n\u001b[1;32m    458\u001b[0m     \u001b[0;32mdef\u001b[0m \u001b[0m_batches\u001b[0m\u001b[0;34m(\u001b[0m\u001b[0mself\u001b[0m\u001b[0;34m,\u001b[0m \u001b[0miterable\u001b[0m\u001b[0;34m,\u001b[0m \u001b[0msize\u001b[0m\u001b[0;34m)\u001b[0m\u001b[0;34m:\u001b[0m\u001b[0;34m\u001b[0m\u001b[0m\n",
      "\u001b[0;32m~/.pyenv/versions/3.5.3/lib/python3.5/site-packages/influxdb/client.py\u001b[0m in \u001b[0;36m_write_points\u001b[0;34m(self, points, time_precision, database, retention_policy, tags, protocol)\u001b[0m\n\u001b[1;32m    504\u001b[0m                 \u001b[0mparams\u001b[0m\u001b[0;34m=\u001b[0m\u001b[0mparams\u001b[0m\u001b[0;34m,\u001b[0m\u001b[0;34m\u001b[0m\u001b[0m\n\u001b[1;32m    505\u001b[0m                 \u001b[0mexpected_response_code\u001b[0m\u001b[0;34m=\u001b[0m\u001b[0;36m204\u001b[0m\u001b[0;34m,\u001b[0m\u001b[0;34m\u001b[0m\u001b[0m\n\u001b[0;32m--> 506\u001b[0;31m                 \u001b[0mprotocol\u001b[0m\u001b[0;34m=\u001b[0m\u001b[0mprotocol\u001b[0m\u001b[0;34m\u001b[0m\u001b[0m\n\u001b[0m\u001b[1;32m    507\u001b[0m             )\n\u001b[1;32m    508\u001b[0m \u001b[0;34m\u001b[0m\u001b[0m\n",
      "\u001b[0;32m~/.pyenv/versions/3.5.3/lib/python3.5/site-packages/influxdb/client.py\u001b[0m in \u001b[0;36mwrite\u001b[0;34m(self, data, params, expected_response_code, protocol)\u001b[0m\n\u001b[1;32m    300\u001b[0m             \u001b[0mdata\u001b[0m\u001b[0;34m=\u001b[0m\u001b[0mdata\u001b[0m\u001b[0;34m,\u001b[0m\u001b[0;34m\u001b[0m\u001b[0m\n\u001b[1;32m    301\u001b[0m             \u001b[0mexpected_response_code\u001b[0m\u001b[0;34m=\u001b[0m\u001b[0mexpected_response_code\u001b[0m\u001b[0;34m,\u001b[0m\u001b[0;34m\u001b[0m\u001b[0m\n\u001b[0;32m--> 302\u001b[0;31m             \u001b[0mheaders\u001b[0m\u001b[0;34m=\u001b[0m\u001b[0mheaders\u001b[0m\u001b[0;34m\u001b[0m\u001b[0m\n\u001b[0m\u001b[1;32m    303\u001b[0m         )\n\u001b[1;32m    304\u001b[0m         \u001b[0;32mreturn\u001b[0m \u001b[0;32mTrue\u001b[0m\u001b[0;34m\u001b[0m\u001b[0m\n",
      "\u001b[0;32m~/.pyenv/versions/3.5.3/lib/python3.5/site-packages/influxdb/client.py\u001b[0m in \u001b[0;36mrequest\u001b[0;34m(self, url, method, params, data, expected_response_code, headers)\u001b[0m\n\u001b[1;32m    261\u001b[0m             \u001b[0;32mreturn\u001b[0m \u001b[0mresponse\u001b[0m\u001b[0;34m\u001b[0m\u001b[0m\n\u001b[1;32m    262\u001b[0m         \u001b[0;32melse\u001b[0m\u001b[0;34m:\u001b[0m\u001b[0;34m\u001b[0m\u001b[0m\n\u001b[0;32m--> 263\u001b[0;31m             \u001b[0;32mraise\u001b[0m \u001b[0mInfluxDBClientError\u001b[0m\u001b[0;34m(\u001b[0m\u001b[0mresponse\u001b[0m\u001b[0;34m.\u001b[0m\u001b[0mcontent\u001b[0m\u001b[0;34m,\u001b[0m \u001b[0mresponse\u001b[0m\u001b[0;34m.\u001b[0m\u001b[0mstatus_code\u001b[0m\u001b[0;34m)\u001b[0m\u001b[0;34m\u001b[0m\u001b[0m\n\u001b[0m\u001b[1;32m    264\u001b[0m \u001b[0;34m\u001b[0m\u001b[0m\n\u001b[1;32m    265\u001b[0m     def write(self, data, params=None, expected_response_code=204,\n",
      "\u001b[0;31mInfluxDBClientError\u001b[0m: 400: {\"error\":\"partial write: points beyond retention policy dropped=1\"}\n"
     ]
    }
   ],
   "source": [
    "main(\"183.136.205.102\", 38086)"
   ]
  },
  {
   "cell_type": "code",
   "execution_count": null,
   "metadata": {
    "collapsed": true
   },
   "outputs": [],
   "source": []
  }
 ],
 "metadata": {
  "kernelspec": {
   "display_name": "Python 3",
   "language": "python",
   "name": "python3"
  },
  "language_info": {
   "codemirror_mode": {
    "name": "ipython",
    "version": 3
   },
   "file_extension": ".py",
   "mimetype": "text/x-python",
   "name": "python",
   "nbconvert_exporter": "python",
   "pygments_lexer": "ipython3",
   "version": "3.5.3"
  }
 },
 "nbformat": 4,
 "nbformat_minor": 2
}
