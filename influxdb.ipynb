{
 "cells": [
  {
   "cell_type": "code",
   "execution_count": 1,
   "metadata": {
    "collapsed": true
   },
   "outputs": [],
   "source": [
    "from influxdb import InfluxDBClient"
   ]
  },
  {
   "cell_type": "code",
   "execution_count": 30,
   "metadata": {
    "collapsed": true
   },
   "outputs": [],
   "source": [
    "def main(host='localhost', port=8086):\n",
    "    user = 'chenhq'\n",
    "    password = 'jianfengg'\n",
    "    dbname = 'example'\n",
    "    dbuser = 'chenhq'\n",
    "    dbuser_password = 'jianfengg'\n",
    "    query = 'select value from cpu_load_short;'\n",
    "    json_body = [\n",
    "        {\n",
    "            \"measurement\": \"cpu_load_short\",\n",
    "            \"tags\": {\n",
    "                \"host\": \"server01\",\n",
    "                \"region\": \"us-west\"\n",
    "            },\n",
    "            \"time\": \"2017-09-01T013:21:00Z\",\n",
    "            \"fields\": {\n",
    "                \"Float_value\": 0.64,\n",
    "                \"Int_value\": 3,\n",
    "                \"String_value\": \"Text\",\n",
    "                \"Bool_value\": True\n",
    "            }\n",
    "        }\n",
    "    ]\n",
    "\n",
    "    client = InfluxDBClient(host, port, user, password, dbname)\n",
    "\n",
    "    print(\"Create database: \" + dbname)\n",
    "    client.create_database(dbname)\n",
    "\n",
    "#     print(\"Create a retention policy\")\n",
    "#     client.create_retention_policy('awesome_policy', '3d', 3, default=True)\n",
    "\n",
    "    print(\"Switch user: \" + dbuser)\n",
    "    client.switch_user(dbuser, dbuser_password)\n",
    "\n",
    "    print(\"Write points: {0}\".format(json_body))\n",
    "    client.write_points(json_body)\n",
    "\n",
    "    print(\"Queying data: \" + query)\n",
    "    result = client.query(query)\n",
    "\n",
    "    print(\"Result: {0}\".format(result))\n",
    "\n",
    "    print(\"Switch user: \" + user)\n",
    "    client.switch_user(user, password)\n",
    "\n",
    "    # print(\"Drop database: \" + dbname)\n",
    "    # client.drop_database(dbname)"
   ]
  },
  {
   "cell_type": "code",
   "execution_count": 31,
   "metadata": {},
   "outputs": [
    {
     "name": "stdout",
     "output_type": "stream",
     "text": [
      "Create database: example\n",
      "Switch user: chenhq\n",
      "Write points: [{'tags': {'host': 'server01', 'region': 'us-west'}, 'time': '2017-09-01T013:21:00Z', 'fields': {'Float_value': 0.64, 'String_value': 'Text', 'Bool_value': True, 'Int_value': 3}, 'measurement': 'cpu_load_short'}]\n",
      "Queying data: select value from cpu_load_short;\n",
      "Result: ResultSet({})\n",
      "Switch user: chenhq\n"
     ]
    }
   ],
   "source": [
    "main(\"183.136.205.102\", 38086)"
   ]
  },
  {
   "cell_type": "code",
   "execution_count": 33,
   "metadata": {},
   "outputs": [
    {
     "name": "stdout",
     "output_type": "stream",
     "text": [
      "Result: ResultSet({'('cpu_load_short', None)': [{'time': '2017-09-01T03:00:00Z', 'value': 0.64}]})\n"
     ]
    }
   ],
   "source": [
    "from influxdb import InfluxDBClient\n",
    "\n",
    "json_body = [\n",
    "    {\n",
    "        \"measurement\": \"cpu_load_short\",\n",
    "        \"tags\": {\n",
    "            \"host\": \"server01\",\n",
    "            \"region\": \"us-west\"\n",
    "        },\n",
    "        \"time\": \"2017-09-01T03:00:00Z\",\n",
    "        \"fields\": {\n",
    "            \"value\": 0.64\n",
    "        }\n",
    "    }\n",
    "]\n",
    "\n",
    "client = InfluxDBClient('183.136.205.102', 38086, 'root', 'root', 'example')\n",
    "\n",
    "client.create_database('example1')\n",
    "\n",
    "client.write_points(json_body)\n",
    "\n",
    "result = client.query('select value from cpu_load_short;')\n",
    "\n",
    "print(\"Result: {0}\".format(result))"
   ]
  },
  {
   "cell_type": "code",
   "execution_count": null,
   "metadata": {
    "collapsed": true
   },
   "outputs": [],
   "source": []
  }
 ],
 "metadata": {
  "kernelspec": {
   "display_name": "Python 3",
   "language": "python",
   "name": "python3"
  },
  "language_info": {
   "codemirror_mode": {
    "name": "ipython",
    "version": 3
   },
   "file_extension": ".py",
   "mimetype": "text/x-python",
   "name": "python",
   "nbconvert_exporter": "python",
   "pygments_lexer": "ipython3",
   "version": "3.5.3"
  }
 },
 "nbformat": 4,
 "nbformat_minor": 2
}
