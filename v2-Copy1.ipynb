{
 "cells": [
  {
   "cell_type": "code",
   "execution_count": 1,
   "metadata": {
    "collapsed": true
   },
   "outputs": [],
   "source": [
    "%matplotlib inline\n",
    "\n",
    "import numpy as np\n",
    "import pandas as pd\n",
    "import matplotlib.pyplot as plt\n",
    "import seaborn as sbn\n",
    "sbn.set()"
   ]
  },
  {
   "cell_type": "code",
   "execution_count": 2,
   "metadata": {
    "collapsed": true
   },
   "outputs": [],
   "source": [
    "# Variable\n",
    "timesteps = 32\n",
    "batch_size = 8\n",
    "train_to_val_ratio = 7\n",
    "units = 32\n",
    "data_dim = 8\n",
    "div_class = [-0.5, 0.5]\n",
    "#div_class = [-0.5, -0.3, -0.1, 0.1, 0.3, 0.5]\n",
    "num_classes = len(div_class) + 1"
   ]
  },
  {
   "cell_type": "code",
   "execution_count": 3,
   "metadata": {
    "collapsed": true
   },
   "outputs": [],
   "source": [
    "def data_load():\n",
    "    data_dir = '../data/'\n",
    "    day_index1 = data_dir + '1day/index/2000_2009.csv'\n",
    "    day_index2 = data_dir + '1day/index/2010_2016.csv'\n",
    "    data1 = pd.read_csv(day_index1,encoding='gbk', parse_dates=['date'])\n",
    "    data2 = pd.read_csv(day_index2,encoding='gbk', parse_dates=['date'])\n",
    "    data = pd.concat([data1, data2])\n",
    "    data.set_index(['code', 'date'], inplace=True)\n",
    "    return data"
   ]
  },
  {
   "cell_type": "code",
   "execution_count": 4,
   "metadata": {
    "collapsed": true
   },
   "outputs": [],
   "source": [
    "def split_data(data, timesteps, batch_size, query_str):\n",
    "    match = data.query(query_str)\n",
    "    min_num = int(batch_size) * int(timesteps) \n",
    "    size = len(match)\n",
    "    m = int(size / min_num)\n",
    "    if m < 1:\n",
    "        return None\n",
    "    \n",
    "    end_num = min_num * m\n",
    "    print(\"data set: {0}:{1}\".format(0, end_num))\n",
    "    result = match.iloc[:end_num, :].copy()\n",
    "\n",
    "    return result"
   ]
  },
  {
   "cell_type": "code",
   "execution_count": 5,
   "metadata": {
    "collapsed": true
   },
   "outputs": [],
   "source": [
    "def split_train_validate1(data, timesteps, batch_size, train_to_val_ratio):\n",
    "    min_test_num = batch_size * timesteps \n",
    "    min_train_num = min_test_num * train_to_val_ratio\n",
    "    \n",
    "    min_all = min_train_num + min_test_num\n",
    "    size = len(data)\n",
    "    if size < min_all:\n",
    "        return None, None\n",
    "    \n",
    "    m = int(size / min_all)\n",
    "    print(\"train set: {0}:{1}\".format(0, min_train_num*m))\n",
    "    train = data.iloc[:min_train_num*m, :]\n",
    "    \n",
    "    test_begin = min_train_num * m\n",
    "    test_end = int(size / min_test_num) * min_test_num\n",
    "    print(\"test set: {0}:{1}\".format(test_begin, test_end))\n",
    "    test = data.iloc[test_begin:test_end, :]\n",
    "    return train, test"
   ]
  },
  {
   "cell_type": "code",
   "execution_count": 6,
   "metadata": {
    "collapsed": true
   },
   "outputs": [],
   "source": [
    "def data_clean(data):\n",
    "    new_data = pd.DataFrame()\n",
    "    for column in ['open', 'high', 'low', 'close']:\n",
    "        new_data[column] = data[column] / 10000.0\n",
    "\n",
    "    # new_data.dropna(inplace=True)\n",
    "    return new_data"
   ]
  },
  {
   "cell_type": "code",
   "execution_count": 7,
   "metadata": {
    "collapsed": true
   },
   "outputs": [],
   "source": [
    "# 阴阳线\n",
    "def stick_type(x):\n",
    "    stick_type = -1\n",
    "    if x['close'] >= x['open']:\n",
    "        stick_type = 1\n",
    "    return stick_type\n",
    "\n",
    "# 上引线\n",
    "def up_line(x):\n",
    "    return x['high'] - x[['open','close']].max()\n",
    "\n",
    "# 下引线\n",
    "def down_line(x):\n",
    "    return x[['open','close']].min() - x['low']\n",
    "\n",
    "# 实体长度\n",
    "def body_size(x):\n",
    "    return x['close'] - x['open']\n",
    "\n",
    "def range_to_class(x):\n",
    "    cls = []\n",
    "    size = len(div_class)\n",
    "    n = -1;\n",
    "    if x < div_class[0]:\n",
    "        n = 1\n",
    "    elif x >= div_class[size-1]:\n",
    "        n = size + 1\n",
    "    else:    \n",
    "        for i in range(0, size-1):\n",
    "            if div_class[i] <= x < div_class[i+1]:\n",
    "                n = i + 2\n",
    "                # print(\"n=\", n)\n",
    "                break\n",
    "    if n >= 0:\n",
    "        for i in range(0, size+1):\n",
    "            if i == n - 1:\n",
    "                cls.append(1.0)\n",
    "            else:\n",
    "                cls.append(0.0)\n",
    "    else:\n",
    "        print(x)\n",
    "        print(\"Error: n less than 0\")\n",
    "    return cls"
   ]
  },
  {
   "cell_type": "code",
   "execution_count": 8,
   "metadata": {
    "collapsed": true
   },
   "outputs": [],
   "source": [
    "def data_transform(data):\n",
    "    new_data = pd.DataFrame()\n",
    "    pre_close = data['close'].shift(1)\n",
    "    for column in ['open', 'high', 'low', 'close']:\n",
    "        new_data[column] = (data[column] - pre_close) / pre_close\n",
    "    # new_data.dropna(inplace=True)\n",
    "        \n",
    "    # change percentage enlarge\n",
    "    new_data = new_data * 100.0\n",
    "        \n",
    "    # add new feature\n",
    "    new_data['stick_type'] = new_data.apply(stick_type, axis=1)\n",
    "    new_data['up_line'] = new_data.apply(up_line, axis=1)\n",
    "    new_data['down_line'] = new_data.apply(down_line, axis=1)\n",
    "    new_data['close_open'] = new_data.apply(body_size, axis=1)\n",
    "        \n",
    "    # classes\n",
    "    new_data['class'] = new_data['close'].shift(-1)\n",
    "    # new_data.dropna(inplace=True)\n",
    "    new_data.fillna(0, inplace=True)\n",
    "    new_data['class']= new_data['class'].map(range_to_class)\n",
    "        \n",
    "    # new_data.dropna(inplace=True)\n",
    "    return new_data"
   ]
  },
  {
   "cell_type": "code",
   "execution_count": 9,
   "metadata": {
    "collapsed": true
   },
   "outputs": [],
   "source": [
    "def data_reform(data, batch_size, timesteps):\n",
    "    print(\"shape: {0}\".format(data.shape))\n",
    "    size = len(data)\n",
    "    if size % (int(batch_size) * int(timesteps)) != 0:\n",
    "        print(\"data size not match, size: {0}, batch_size: {1}, timesteps: {2}\".format(size, batch_size, timesteps))\n",
    "        return None, None\n",
    "   \n",
    "    X, Y0 = data[:, :-1], data[:, -1]\n",
    "    \n",
    "    X = X.reshape((-1, timesteps, X.shape[1]))\n",
    "    \n",
    "    Y = np.array([np.array(y) for y in Y0])\n",
    "    \n",
    "    Y = Y.reshape((-1, timesteps, Y.shape[1]))\n",
    "    \n",
    "    print(\"X.shape: {0} Y.shape: {1}\".format(X.shape, Y.shape))\n",
    "    \n",
    "    return X, Y"
   ]
  },
  {
   "cell_type": "code",
   "execution_count": 10,
   "metadata": {
    "collapsed": true
   },
   "outputs": [],
   "source": [
    "# data_all.query('date>\"20150101\"')"
   ]
  },
  {
   "cell_type": "code",
   "execution_count": 11,
   "metadata": {
    "collapsed": true
   },
   "outputs": [],
   "source": [
    "# data_all.query('code==990905').tail(600).head()"
   ]
  },
  {
   "cell_type": "code",
   "execution_count": 35,
   "metadata": {
    "collapsed": true
   },
   "outputs": [],
   "source": [
    "data_all_raw = data_load()"
   ]
  },
  {
   "cell_type": "code",
   "execution_count": 36,
   "metadata": {},
   "outputs": [
    {
     "data": {
      "text/plain": [
       "array(['沪深300', '上证380', '新综指', '180金融', '治理指数', '中型综指', '180治理', '沪公司债',\n",
       "       '沪分离债', '180基建', '180资源', '180运输', '180成长', '180价值', '180R成长',\n",
       "       '180R价值', '上证能源', '上证材料', '上证工业', '上证可选', '上证消费', '上证医药', '上证金融',\n",
       "       '上证信息', '上证电信', '上证公用', '上证央企', '超大盘', '上证中盘', '上证小盘', '上证中小',\n",
       "       '上证全指', '责任指数', '上证民企', '50等权', '180等权', '50基本', '180基本', '上证海外',\n",
       "       '上证地企', '上证国企', '全指成长', '全指价值', '全R成长', '全R价值', '沪企债30', '上证沪企',\n",
       "       '上证周期', '非周期', '上证龙头', '上证商品', '上证新兴', '上证资源', '消费80', '沪财中小',\n",
       "       '资源50', '180分层', '上证上游', '上证中游', '上证下游', '高端装备', '上证F200', '上证F300',\n",
       "       '上证F500', '沪投资品', '沪消费品', '380能源', '380材料', '380工业', '380可选',\n",
       "       '380消费', '380医药', '380金融', '380信息', '380电信', '380公用', '380成长',\n",
       "       '380价值', '380R成长', '380R价值', '医药主题', '消费50', '380基本', '180波动',\n",
       "       '380波动', '上证100', '上证150', '上证银行', '180高贝', '180低贝', '380高贝',\n",
       "       '380低贝', '上证转债', '优势资源', '优势制造', '优势消费', '消费领先', '180红利', '380红利',\n",
       "       '上国红利', '上央红利', '上民红利', '市值百强', '资源80', '500沪市', '300波动', '500波动',\n",
       "       'A股资源', '消费服务', '食品饮料', '医药生物', '细分农业', '细分能源', '细分有色', '细分机械',\n",
       "       '细分化工', '细分医药', '细分食品', '细分地产', '细分金融', '有色金属', '煤炭指数', '300红利',\n",
       "       '500红利', '800有色', '国企红利', '央企红利', '民企红利', '300高贝', '300低贝', '500高贝',\n",
       "       '500低贝', '中证转债', '中高企债', '创业价值', '浙企综指', '浙江民企', '800医药', '800等权',\n",
       "       '小康指数', '中证流通', '中证100', '中证200', '中证500', '中证800', '中证700',\n",
       "       '300能源', '300材料', '300工业', '300可选', '300消费', '300医药', '300金融',\n",
       "       '300信息', '300电信', '300公用', '300成长', '300价值', '300R成长', '300R价值',\n",
       "       '中证红利', '公司债', '分离债', '基本面50', '中证央企', '央企100', '中证能源', '中证材料',\n",
       "       '中证工业', '中证可选', '中证消费', '中证医药', '中证金融', '中证信息', '中证电信', '中证公用',\n",
       "       '中证民企', '民企200', '财富大盘', '新能源', '内地消费', '内地基建', '内地资源', '内地运输',\n",
       "       '内地金融', '内地银行', '内地地产', '内地农业', '300基建', '300银行', '300地产', '中证地企',\n",
       "       '地企100', '中证国企', '国企200', '300运输', '银河99', '测试88', '中证新兴', '测试93',\n",
       "       '基本400', '测试95', '测试96', '300非周', '等权90', '300沪市', '技术领先', '800金融',\n",
       "       '医药100', '大宗商品', '中证超大', '300分层', '500等权', '智能资产', '300等权', '中证全指',\n",
       "       '全指能源', '全指材料', '全指工业', '全指可选', '全指消费', '全指医药', '全指金融', '全指信息',\n",
       "       '全指电信', '全指公用', '领先行业', '大消费', '新 综 指', '红利指数', '上证50', '企债指数',\n",
       "       '国债指数', '基金指数', '上证180', '综合指数', '公用指数', '地产指数', '商业指数', '工业指数',\n",
       "       'Ｂ股指数', 'Ａ股指数', '上证指数', '深证成指', '深成指R', '成份Ｂ指', '深证100R', '中小板指',\n",
       "       '深证300', '新 指 数', '中小板综', '深证综指', '深证Ａ指', '深证Ｂ指', '农林指数', '采掘指数',\n",
       "       '制造指数', '食品指数', '纺织指数', '木材指数', '造纸指数', '石化指数', '电子指数', '金属指数',\n",
       "       '机械指数', '医药指数', '水电指数', '建筑指数', '运输指数', 'IT指数', '批零指数', '金融指数',\n",
       "       '服务指数', '传播指数', '综企指数', '国证50', '国证1000', '国证300', '巨潮100', '巨潮大盘',\n",
       "       '巨潮中盘', '巨潮小盘', '国证Ａ指', '国证Ｂ指', '资源优势', '国证服务', '国证红利', '国证治理',\n",
       "       '深证红利', '成长40R', '成长40', '深证治理', '深证100', '深证创新', '中小板R', '深证央企',\n",
       "       '深证民营', '深证科技', '深证责任', '深证300R', '深证成长', '深证价值', '深报指数', '深报综指',\n",
       "       '国证物流', '长三角', '珠三角', '环渤海', '泰达指数', '国证基建', '新硬件', '国证商业', '国证民营',\n",
       "       '计算机指', '中金消费', '国证农业', '国证大宗', '巨潮地产', '国证军工', 'CBN-兴全', '深证F60',\n",
       "       '深证F120', '深证F200', '中证 200', '中证 500', '中证 800', '中证 700',\n",
       "       '300 能源', '300 材料', '300 工业', '300 可选', '300 消费', '300 医药',\n",
       "       '300 金融', '300 信息', '300 电信', '300 公用', '300 成长', '300 价值', '公司债指',\n",
       "       '分离债指', '能源等权', '材料等权', '工业等权', '可选等权', '消费等权', '医药等权', '金融等权',\n",
       "       '信息等权', '电信等权', '公用等权', '上证流通', '5年信用', '持续产业', '380等权', '信用100',\n",
       "       '农业主题', '180动态', '180稳定', '上证高新', '380动态', '380稳定', '上证环保', '沪股通',\n",
       "       '沪新丝路', '沪中国造', '沪互联+', '50AH优选', '兴证海峡', '中证环保', '300动态', '300稳定',\n",
       "       'ESG 100', '腾讯济安', '300非银', '300有色', '百发100', '中证1000', 'CSSW丝路',\n",
       "       '500原料', '央视500', '500工业', '500医药', '500信息', 'CS精准医', '上海国企',\n",
       "       '港中小企', 'HK银行', '创业成长', '中证上游', '测试90', '中证下游', '测试98', '钱江30',\n",
       "       '新华金牛', '内地低碳', '中证TMT', '两岸三地', '创业板指', '中小300', '深证200', '深证700',\n",
       "       '深证1000', '创业300', '深市精选', '中小创新', 'SME创新', '创业创新', '创业板综', '乐富指数',\n",
       "       '采矿指数', '餐饮指数', '商务指数', '科研指数', '公共指数', '文化指数', '深信中高', '深信中低',\n",
       "       '深信用债', '深公司债', '国证2000', '深证ETF', '深证转债', '皖江30', '分析师指数', '国证成长',\n",
       "       '国证价值', '大盘成长', '大盘价值', '中盘成长', '中盘价值', '小盘成长', '小盘价值', '南方低碳',\n",
       "       '国证基金', '国证ETF', '1000能源', '1000材料', '1000工业', '1000可选', '1000消费',\n",
       "       '1000医药', '1000金融', '1000信息', '国证通信', '1000公用', '投资时钟', '国证新兴',\n",
       "       '国证地产', '国证医药', '国证有色', '国证食品', 'OCT文化', '绩效指数', '中经GDP', '大中盘',\n",
       "       '中小盘', '周期100', '防御100', '大盘低波', '大盘高贝', '中盘低波', '中盘高贝', '小盘低波',\n",
       "       '小盘高贝', '苏州率先', '红利100', '国证新能', '国证转债', 'I100', 'I300', '新能源车',\n",
       "       '国证国安', '国证高铁', '国证保证', '中关村A', '中关村50', '专利领先', '国证定增', '新丝路',\n",
       "       '国证银行', '国证汽车', '国证交运', '国证传媒', '国证农牧', '国证煤炭', '国证证券', '国证电力',\n",
       "       '国证油气', '国证钢铁', '生物医药', '央视50', '央视创新', '央视成长', '央视回报', '央视治理',\n",
       "       '央视责任', '央视生态', '央视文化', '中小300R', '中小成长', 'SME成长R', '中小价值',\n",
       "       'SME价值R', '创业板R', '科技100R', '科技100', 'TMT50R', 'TMT50', '中创100R',\n",
       "       '中创100', '深证能源', '深证材料', '深证工业', '深证可选', '深证消费', '深证医药', '深证金融',\n",
       "       '深证信息', '深证电信', '深证公用', '中小基础', '中创400', '中创500', '中创成长', '中创价值',\n",
       "       '700成长', '700价值', '1000成长', '1000价值', '深100EW', '深300EW', '中小板EW',\n",
       "       '创业板EW', '深证装备', '深证地产', '深证环保', '深证大宗', '创业基础', '深证新兴', '中小新兴',\n",
       "       '创业新兴', '深证时钟', '100低波', '深消费50', '深医药50', '深证GDP', '中小红利', '中小治理',\n",
       "       '中小责任', '中创高新', '深证龙头', '深证文化', '深证绩效', '100绩效', '300绩效', '中小绩效',\n",
       "       '深成指EW', '中创EW', '深证低波', '深证高贝', '中小低波', '中小高贝', '中创低波', '中创高贝',\n",
       "       '创业板G', '创业板V', '深证农业', '深周期50', '深防御50', '深红利50', '创业板50', '深A医药',\n",
       "       '深互联网', '深医药EW', '深互联EW', '深次新股', '深证200R', '深成能源', '深成材料', '深成工业',\n",
       "       '深成可选', '深成消费', '深成医药', '深成金融', '深成信息', '深成电信', '深成公用', '中小专利',\n",
       "       '创业专利', '创业低波', '安防产业', '创业高贝', '深证创投', '深证上游', '深证中游', '深证下游',\n",
       "       'CSSW证券', '500深市', '工业4.0', '中证体育', '互联金融', '环境治理', '高铁产业', '中证新能',\n",
       "       '保险主题', 'CSSW传媒', 'CSSW电子', '养老产业', '中证国安', '大农业', '生态100', '军工指数',\n",
       "       '中证龙头', '中证中游', '800地产', '800非银', '中证军工', '300周期', '移动互联', '中证传媒',\n",
       "       '300深市', '中证国防', '国企改革', '证券公司', 'CS新能车', '地产等权', '中证银行', '中证酒',\n",
       "       '中证医疗', '煤炭等权', '一带一路', 'CSWD并购', 'CSWD生科', '信息安全', '基建工程', '智能家居',\n",
       "       '中证白酒', '中证煤炭'], dtype=object)"
      ]
     },
     "execution_count": 36,
     "metadata": {},
     "output_type": "execute_result"
    }
   ],
   "source": [
    "data_all_raw.name.unique()"
   ]
  },
  {
   "cell_type": "code",
   "execution_count": 47,
   "metadata": {
    "collapsed": true
   },
   "outputs": [],
   "source": [
    "zz500 = data_all_raw[data_all_raw['name']=='中证500']"
   ]
  },
  {
   "cell_type": "code",
   "execution_count": 68,
   "metadata": {},
   "outputs": [
    {
     "data": {
      "text/plain": [
       "date\n",
       "2007-12-31    452\n",
       "2008-12-31    492\n",
       "2009-12-31    441\n",
       "2010-12-31    247\n",
       "2011-12-31    244\n",
       "2012-12-31    243\n",
       "2013-12-31    238\n",
       "2014-12-31    245\n",
       "2015-12-31    244\n",
       "2016-12-31    244\n",
       "Freq: A-DEC, Name: name, dtype: int64"
      ]
     },
     "execution_count": 68,
     "metadata": {},
     "output_type": "execute_result"
    }
   ],
   "source": [
    "zz500.reset_index(level=0)['name'].resample('A').count()"
   ]
  },
  {
   "cell_type": "code",
   "execution_count": 29,
   "metadata": {
    "collapsed": true
   },
   "outputs": [],
   "source": [
    "names = ['沪深300', '中证500', '上证50', '中小板指', '创业板指']\n",
    "data_all = data_all_raw[data_all_raw.name.isin(names)]"
   ]
  },
  {
   "cell_type": "code",
   "execution_count": 49,
   "metadata": {
    "collapsed": true
   },
   "outputs": [],
   "source": [
    "query_str = 'code=={0}'.format(990905)\n",
    "data_slice = data_all.query(query_str).copy()"
   ]
  },
  {
   "cell_type": "code",
   "execution_count": 69,
   "metadata": {},
   "outputs": [
    {
     "data": {
      "text/plain": [
       "date\n",
       "2007-12-31    226\n",
       "2008-12-31    246\n",
       "2009-12-31    244\n",
       "2010-12-31    242\n",
       "2011-12-31    244\n",
       "2012-12-31    243\n",
       "2013-12-31    238\n",
       "2014-12-31    245\n",
       "2015-12-31    244\n",
       "2016-12-31    244\n",
       "Freq: A-DEC, Name: name, dtype: int64"
      ]
     },
     "execution_count": 69,
     "metadata": {},
     "output_type": "execute_result"
    }
   ],
   "source": [
    "data_slice.reset_index(level=0)['name'].resample('A').count()"
   ]
  },
  {
   "cell_type": "code",
   "execution_count": 30,
   "metadata": {},
   "outputs": [
    {
     "name": "stdout",
     "output_type": "stream",
     "text": [
      "data set: 0:512\n",
      "open                        0\n",
      "high                        0\n",
      "low                         0\n",
      "close                       0\n",
      "stick_type                 -1\n",
      "up_line                     0\n",
      "down_line                   0\n",
      "close_open                  0\n",
      "class         [1.0, 0.0, 0.0]\n",
      "Name: (990905, 2014-11-03 00:00:00), dtype: object\n",
      "open                -0.900462\n",
      "high                0.0248797\n",
      "low                  -1.07178\n",
      "close               -0.536073\n",
      "stick_type                  1\n",
      "up_line              0.560953\n",
      "down_line            0.171313\n",
      "close_open           0.364389\n",
      "class         [0.0, 1.0, 0.0]\n",
      "Name: (990905, 2016-12-05 00:00:00), dtype: object\n",
      "shape: (512, 9)\n",
      "X.shape: (16, 32, 8) Y.shape: (16, 32, 3)\n",
      "(16, 32, 8) (16, 32, 3)\n"
     ]
    }
   ],
   "source": [
    "# test set\n",
    "idx=990905\n",
    "query_str = 'code=={0}'.format(idx)\n",
    "data_slice = data_all.query(query_str).copy()\n",
    "\n",
    "query_str = 'date>\"20141101\"'\n",
    "raw_test = split_data(data_slice, timesteps, batch_size, query_str)\n",
    "test_c = data_clean(raw_test)\n",
    "test_t = data_transform(test_c)\n",
    "print(test_t.iloc[0,:])\n",
    "print(test_t.iloc[-1,:])\n",
    "test_X, test_Y = data_reform(test_t.values, batch_size, timesteps)\n",
    "print(test_X.shape, test_Y.shape)"
   ]
  },
  {
   "cell_type": "code",
   "execution_count": null,
   "metadata": {
    "collapsed": true
   },
   "outputs": [],
   "source": []
  },
  {
   "cell_type": "code",
   "execution_count": 31,
   "metadata": {},
   "outputs": [
    {
     "name": "stdout",
     "output_type": "stream",
     "text": [
      "========================\n",
      "dict length: 0\n",
      "0/7, Idx: 300\n",
      "data set: 0:2304\n",
      "open                        0\n",
      "high                        0\n",
      "low                         0\n",
      "close                       0\n",
      "stick_type                 -1\n",
      "up_line                     0\n",
      "down_line                   0\n",
      "close_open                  0\n",
      "class         [1.0, 0.0, 0.0]\n",
      "Name: (300, 2005-04-08 00:00:00), dtype: object\n",
      "open                -0.156908\n",
      "high                 0.527832\n",
      "low                 -0.758061\n",
      "close               -0.341515\n",
      "stick_type                 -1\n",
      "up_line               0.68474\n",
      "down_line            0.416547\n",
      "close_open          -0.184607\n",
      "class         [0.0, 1.0, 0.0]\n",
      "Name: (300, 2014-10-14 00:00:00), dtype: object\n",
      "shape: (2304, 9)\n",
      "X.shape: (72, 32, 8) Y.shape: (72, 32, 3)\n",
      "(72, 32, 8) (72, 32, 3)\n",
      "========================\n",
      "dict length: 1\n",
      "1/7, Idx: 990905\n",
      "data set: 0:1792\n",
      "open                        0\n",
      "high                        0\n",
      "low                         0\n",
      "close                       0\n",
      "stick_type                 -1\n",
      "up_line                     0\n",
      "down_line                   0\n",
      "close_open                  0\n",
      "class         [0.0, 0.0, 1.0]\n",
      "Name: (990905, 2007-01-26 00:00:00), dtype: object\n",
      "open                0.0606621\n",
      "high                 0.607924\n",
      "low                 0.0413382\n",
      "close                0.601921\n",
      "stick_type                  1\n",
      "up_line            0.00600274\n",
      "down_line           0.0193239\n",
      "close_open           0.541259\n",
      "class         [0.0, 1.0, 0.0]\n",
      "Name: (990905, 2014-06-16 00:00:00), dtype: object\n",
      "shape: (1792, 9)\n",
      "X.shape: (56, 32, 8) Y.shape: (56, 32, 3)\n",
      "(56, 32, 8) (56, 32, 3)\n",
      "========================\n",
      "dict length: 2\n",
      "2/7, Idx: 999905\n",
      "data set: 0:512\n",
      "open                        0\n",
      "high                        0\n",
      "low                         0\n",
      "close                       0\n",
      "stick_type                 -1\n",
      "up_line                     0\n",
      "down_line                   0\n",
      "close_open                  0\n",
      "class         [0.0, 0.0, 1.0]\n",
      "Name: (999905, 2007-01-26 00:00:00), dtype: object\n",
      "open                 -1.88466\n",
      "high                 0.179295\n",
      "low                  -2.35891\n",
      "close               -0.677879\n",
      "stick_type                  1\n",
      "up_line              0.857174\n",
      "down_line            0.474253\n",
      "close_open            1.20678\n",
      "class         [0.0, 1.0, 0.0]\n",
      "Name: (999905, 2009-03-06 00:00:00), dtype: object\n",
      "shape: (512, 9)\n",
      "X.shape: (16, 32, 8) Y.shape: (16, 32, 3)\n",
      "(16, 32, 8) (16, 32, 3)\n",
      "========================\n",
      "dict length: 3\n",
      "3/7, Idx: 999987\n",
      "data set: 0:2560\n",
      "open                        0\n",
      "high                        0\n",
      "low                         0\n",
      "close                       0\n",
      "stick_type                 -1\n",
      "up_line                     0\n",
      "down_line                   0\n",
      "close_open                  0\n",
      "class         [0.0, 0.0, 1.0]\n",
      "Name: (999987, 2004-01-02 00:00:00), dtype: object\n",
      "open                -0.244094\n",
      "high                  1.39625\n",
      "low                 -0.286532\n",
      "close                 1.08728\n",
      "stick_type                  1\n",
      "up_line              0.308973\n",
      "down_line           0.0424371\n",
      "close_open            1.33137\n",
      "class         [0.0, 1.0, 0.0]\n",
      "Name: (999987, 2014-07-22 00:00:00), dtype: object\n",
      "shape: (2560, 9)\n",
      "X.shape: (80, 32, 8) Y.shape: (80, 32, 3)\n",
      "(80, 32, 8) (80, 32, 3)\n",
      "========================\n",
      "dict length: 4\n",
      "4/7, Idx: 399005\n",
      "data set: 0:2048\n",
      "open                        0\n",
      "high                        0\n",
      "low                         0\n",
      "close                       0\n",
      "stick_type                 -1\n",
      "up_line                     0\n",
      "down_line                   0\n",
      "close_open                  0\n",
      "class         [1.0, 0.0, 0.0]\n",
      "Name: (399005, 2006-01-24 00:00:00), dtype: object\n",
      "open                -0.099744\n",
      "high                 0.707171\n",
      "low                  -0.34865\n",
      "close                0.340626\n",
      "stick_type                  1\n",
      "up_line              0.366545\n",
      "down_line            0.248906\n",
      "close_open            0.44037\n",
      "class         [0.0, 1.0, 0.0]\n",
      "Name: (399005, 2014-07-03 00:00:00), dtype: object\n",
      "shape: (2048, 9)\n",
      "X.shape: (64, 32, 8) Y.shape: (64, 32, 3)\n",
      "(64, 32, 8) (64, 32, 3)\n",
      "========================\n",
      "dict length: 5\n",
      "5/7, Idx: 399300\n",
      "data set: 0:2304\n",
      "open                        0\n",
      "high                        0\n",
      "low                         0\n",
      "close                       0\n",
      "stick_type                 -1\n",
      "up_line                     0\n",
      "down_line                   0\n",
      "close_open                  0\n",
      "class         [1.0, 0.0, 0.0]\n",
      "Name: (399300, 2005-04-08 00:00:00), dtype: object\n",
      "open                 0.275275\n",
      "high                 0.675529\n",
      "low                -0.0652388\n",
      "close                0.434843\n",
      "stick_type                  1\n",
      "up_line              0.240686\n",
      "down_line            0.340514\n",
      "close_open           0.159568\n",
      "class         [0.0, 1.0, 0.0]\n",
      "Name: (399300, 2014-09-29 00:00:00), dtype: object\n",
      "shape: (2304, 9)\n",
      "X.shape: (72, 32, 8) Y.shape: (72, 32, 3)\n",
      "(72, 32, 8) (72, 32, 3)\n",
      "========================\n",
      "dict length: 6\n",
      "6/7, Idx: 399329\n",
      "data set: 0:768\n",
      "open                        0\n",
      "high                        0\n",
      "low                         0\n",
      "close                       0\n",
      "stick_type                 -1\n",
      "up_line                     0\n",
      "down_line                   0\n",
      "close_open                  0\n",
      "class         [1.0, 0.0, 0.0]\n",
      "Name: (399329, 2006-01-24 00:00:00), dtype: object\n",
      "open                -0.401336\n",
      "high                 0.403835\n",
      "low                  -1.97047\n",
      "close                -1.96322\n",
      "stick_type                 -1\n",
      "up_line               0.80517\n",
      "down_line          0.00725256\n",
      "close_open           -1.56188\n",
      "class         [0.0, 1.0, 0.0]\n",
      "Name: (399329, 2009-03-25 00:00:00), dtype: object\n",
      "shape: (768, 9)\n",
      "X.shape: (24, 32, 8) Y.shape: (24, 32, 3)\n",
      "(24, 32, 8) (24, 32, 3)\n"
     ]
    }
   ],
   "source": [
    "# train sets\n",
    "idxes = data_all.index.get_level_values('code').unique()\n",
    "train_dict = {}\n",
    "size = len(idxes)\n",
    "for i in range(size):\n",
    "    print(\"========================\")\n",
    "    print(\"dict length: {0}\".format(len(train_dict)))\n",
    "    idx = idxes[i]\n",
    "    print('{0}/{1}, Idx: {2}'.format(i, size, idx))\n",
    "    query_str = 'code=={0}'.format(idxes[i])\n",
    "    data_slice = data_all.query(query_str).copy()\n",
    "    query_str = 'date<\"20150101\"'\n",
    "    raw  = split_data(data_slice, timesteps, batch_size, query_str)\n",
    "    if raw is None:\n",
    "        continue\n",
    "    c = data_clean(raw)\n",
    "    t = data_transform(c)\n",
    "    print(t.iloc[0,:])\n",
    "    print(t.iloc[-1,:])\n",
    "    X, Y = data_reform(t.values, batch_size, timesteps)\n",
    "    if X is None or Y is None:\n",
    "        continue\n",
    "    print(X.shape, Y.shape)\n",
    "    train_dict[idx] = (X, Y)"
   ]
  },
  {
   "cell_type": "code",
   "execution_count": null,
   "metadata": {
    "collapsed": true
   },
   "outputs": [],
   "source": [
    "all_loss_and_metrics = []\n",
    "nb_epochs = 1000\n",
    "for e in range(nb_epochs):\n",
    "    print(\"epochs: {0}\".format(e))\n",
    "    for idx in train_dict:\n",
    "        # print(\"epochs: {0}, idx: {1}\".format(e, idx))\n",
    "        train_X, train_Y = train_dict[idx]\n",
    "        # print(train_X.shape, train_Y.shape, test_X.shape, test_Y.shape)\n",
    "\n",
    "        model.reset_states()\n",
    "        # history = model.fit(train_X, train_Y, epochs=100, batch_size=batch_size, validation_data=(test_X, test_Y), verbose=1, shuffle=False)\n",
    "        model.fit(train_X, train_Y, epochs=1, batch_size=batch_size, verbose=0, shuffle=False)\n",
    "    loss_and_metrics = model.evaluate(test_X, test_Y, batch_size=batch_size)\n",
    "    all_loss_and_metrics.append(loss_and_metrics)\n",
    "    print(\"loss_and_metrics: {0}\".format(loss_and_metrics))\n"
   ]
  },
  {
   "cell_type": "code",
   "execution_count": null,
   "metadata": {
    "collapsed": true
   },
   "outputs": [],
   "source": [
    "for k in train_dict:\n",
    "    print(k)"
   ]
  },
  {
   "cell_type": "markdown",
   "metadata": {},
   "source": [
    "### 分类问题"
   ]
  },
  {
   "cell_type": "code",
   "execution_count": 12,
   "metadata": {},
   "outputs": [
    {
     "name": "stderr",
     "output_type": "stream",
     "text": [
      "Using TensorFlow backend.\n"
     ]
    }
   ],
   "source": [
    "from keras.models import Sequential\n",
    "from keras.layers import LSTM, Dense, Dropout"
   ]
  },
  {
   "cell_type": "code",
   "execution_count": 13,
   "metadata": {
    "collapsed": true
   },
   "outputs": [],
   "source": [
    "model = Sequential()"
   ]
  },
  {
   "cell_type": "code",
   "execution_count": 14,
   "metadata": {
    "collapsed": true
   },
   "outputs": [],
   "source": [
    "# input layer\n",
    "# activation='relu' \n",
    "# dropout=0.5\n",
    "# kernel_initializer=\"uniform\"\n",
    "model.add(LSTM(units, stateful=True, return_sequences=True, batch_input_shape=(batch_size, timesteps, data_dim), kernel_initializer=\"uniform\"))"
   ]
  },
  {
   "cell_type": "code",
   "execution_count": 15,
   "metadata": {
    "collapsed": true
   },
   "outputs": [],
   "source": [
    "# hidden layer\n",
    "model.add(LSTM(units, return_sequences=True, stateful=True, dropout=0.5, kernel_initializer=\"uniform\"))\n",
    "model.add(LSTM(units, return_sequences=True, stateful=True, dropout=0.5, kernel_initializer=\"uniform\"))\n",
    "model.add(LSTM(units, return_sequences=True, stateful=True, dropout=0.5, kernel_initializer=\"uniform\"))"
   ]
  },
  {
   "cell_type": "code",
   "execution_count": 16,
   "metadata": {
    "collapsed": true
   },
   "outputs": [],
   "source": [
    "#model.add(LSTM(units, activation='relu', dropout=0.5, return_sequences=True))\n",
    "#model.add(LSTM(units, activation='relu', dropout=0.5, return_sequences=True))\n",
    "#model.add(LSTM(units, activation='relu', dropout=0.5, return_sequences=True))\n",
    "#model.add(LSTM(units, activation='relu', dropout=0.5, return_sequences=True))\n",
    "#model.add(LSTM(units, activation='relu', dropout=0.5, return_sequences=True))"
   ]
  },
  {
   "cell_type": "markdown",
   "metadata": {},
   "source": [
    "### 回归问题"
   ]
  },
  {
   "cell_type": "code",
   "execution_count": 17,
   "metadata": {
    "collapsed": true
   },
   "outputs": [],
   "source": [
    "# # output layer\n",
    "# # model.add(Dense(no_classes, activation='softmax'))\n",
    "# model.add(Dense(1, activation='sigmoid')) # or sigmoid?"
   ]
  },
  {
   "cell_type": "code",
   "execution_count": 18,
   "metadata": {
    "collapsed": true
   },
   "outputs": [],
   "source": [
    "# # model.compile(optimizer='rmsprop', loss='categorical_crossentropy', metrics=['accuracy'])\n",
    "# model.compile(optimizer='RMSProp', loss='mse') #mse"
   ]
  },
  {
   "cell_type": "markdown",
   "metadata": {},
   "source": [
    "### 分类问题"
   ]
  },
  {
   "cell_type": "code",
   "execution_count": 19,
   "metadata": {
    "collapsed": true
   },
   "outputs": [],
   "source": [
    "from keras.layers import LSTM, Dense, Dropout, BatchNormalization, Activation"
   ]
  },
  {
   "cell_type": "code",
   "execution_count": 20,
   "metadata": {
    "collapsed": true
   },
   "outputs": [],
   "source": [
    "# output layer\n",
    "model.add(Dense(num_classes, activation='softmax'))\n",
    "# model.add(Dense(num_classes, kernel_initializer=\"uniform\"))\n",
    "# model.add(BatchNormalization())\n",
    "# model.add(Activation('softmax'))"
   ]
  },
  {
   "cell_type": "code",
   "execution_count": 21,
   "metadata": {
    "collapsed": true
   },
   "outputs": [],
   "source": [
    "from keras.optimizers import SGD, Adam, RMSprop\n",
    "model.compile(optimizer=RMSprop(0.001), loss='categorical_crossentropy', metrics=['accuracy'])"
   ]
  },
  {
   "cell_type": "code",
   "execution_count": 22,
   "metadata": {},
   "outputs": [
    {
     "name": "stdout",
     "output_type": "stream",
     "text": [
      "_________________________________________________________________\n",
      "Layer (type)                 Output Shape              Param #   \n",
      "=================================================================\n",
      "lstm_1 (LSTM)                (8, 32, 32)               5248      \n",
      "_________________________________________________________________\n",
      "lstm_2 (LSTM)                (8, 32, 32)               8320      \n",
      "_________________________________________________________________\n",
      "lstm_3 (LSTM)                (8, 32, 32)               8320      \n",
      "_________________________________________________________________\n",
      "lstm_4 (LSTM)                (8, 32, 32)               8320      \n",
      "_________________________________________________________________\n",
      "dense_1 (Dense)              (8, 32, 3)                99        \n",
      "=================================================================\n",
      "Total params: 30,307\n",
      "Trainable params: 30,307\n",
      "Non-trainable params: 0\n",
      "_________________________________________________________________\n"
     ]
    }
   ],
   "source": [
    "model.summary()"
   ]
  },
  {
   "cell_type": "code",
   "execution_count": null,
   "metadata": {
    "collapsed": true
   },
   "outputs": [],
   "source": [
    "history = model.fit(train_X, train_Y, epochs=100, batch_size=batch_size, validation_data=(test_X, test_Y), verbose=1, shuffle=False)"
   ]
  },
  {
   "cell_type": "code",
   "execution_count": null,
   "metadata": {
    "collapsed": true,
    "scrolled": true
   },
   "outputs": [],
   "source": [
    "plt.plot(history.history['loss'], label='train')\n",
    "plt.plot(history.history['val_loss'], label='test')\n",
    "plt.legend()\n",
    "plt.show()"
   ]
  },
  {
   "cell_type": "code",
   "execution_count": null,
   "metadata": {
    "collapsed": true
   },
   "outputs": [],
   "source": [
    "plt.plot(history.history['acc'], label='train')\n",
    "plt.plot(history.history['val_acc'], label='test')\n",
    "plt.legend()\n",
    "plt.show()"
   ]
  },
  {
   "cell_type": "code",
   "execution_count": null,
   "metadata": {
    "collapsed": true
   },
   "outputs": [],
   "source": [
    "predict_Y=model.predict(x=test_X,batch_size=batch_size)"
   ]
  },
  {
   "cell_type": "code",
   "execution_count": null,
   "metadata": {
    "collapsed": true
   },
   "outputs": [],
   "source": [
    "predict_Y.shape"
   ]
  },
  {
   "cell_type": "code",
   "execution_count": null,
   "metadata": {
    "collapsed": true
   },
   "outputs": [],
   "source": [
    "predict_value = np.argmax(predict_Y,axis=2)"
   ]
  },
  {
   "cell_type": "code",
   "execution_count": null,
   "metadata": {
    "collapsed": true
   },
   "outputs": [],
   "source": [
    "predict_value.shape"
   ]
  },
  {
   "cell_type": "code",
   "execution_count": null,
   "metadata": {
    "collapsed": true
   },
   "outputs": [],
   "source": [
    "test_set = idx300n.iloc[1800:2400, :].copy()"
   ]
  },
  {
   "cell_type": "code",
   "execution_count": null,
   "metadata": {
    "collapsed": true
   },
   "outputs": [],
   "source": [
    "test_set.head()"
   ]
  },
  {
   "cell_type": "code",
   "execution_count": null,
   "metadata": {
    "collapsed": true
   },
   "outputs": [],
   "source": [
    "def class_argmax(x):\n",
    "    return np.argmax(x)"
   ]
  },
  {
   "cell_type": "code",
   "execution_count": null,
   "metadata": {
    "collapsed": true
   },
   "outputs": [],
   "source": [
    "test_set['class']= test_set['class'].map(class_argmax)"
   ]
  },
  {
   "cell_type": "code",
   "execution_count": null,
   "metadata": {
    "collapsed": true
   },
   "outputs": [],
   "source": [
    "test_set.head()"
   ]
  },
  {
   "cell_type": "code",
   "execution_count": null,
   "metadata": {
    "collapsed": true
   },
   "outputs": [],
   "source": [
    "cmp_predict = pd.DataFrame()\n",
    "cmp_predict['class'] = test_set['class']"
   ]
  },
  {
   "cell_type": "code",
   "execution_count": null,
   "metadata": {
    "collapsed": true
   },
   "outputs": [],
   "source": [
    "cmp_predict['predict_class'] = predict_value.reshape((-1, ))"
   ]
  },
  {
   "cell_type": "code",
   "execution_count": null,
   "metadata": {
    "collapsed": true
   },
   "outputs": [],
   "source": [
    "cmp_predict['close'] = idx300.loc[cmp_predict.index, 'close']"
   ]
  },
  {
   "cell_type": "code",
   "execution_count": null,
   "metadata": {
    "collapsed": true
   },
   "outputs": [],
   "source": [
    "cmp_predict['diff'] = cmp_predict['predict_class'] - cmp_predict['class']"
   ]
  },
  {
   "cell_type": "code",
   "execution_count": null,
   "metadata": {
    "collapsed": true
   },
   "outputs": [],
   "source": [
    "cmp_predict.head()"
   ]
  },
  {
   "cell_type": "code",
   "execution_count": null,
   "metadata": {
    "collapsed": true
   },
   "outputs": [],
   "source": [
    "cmp_predict=cmp_predict.reset_index()"
   ]
  },
  {
   "cell_type": "code",
   "execution_count": null,
   "metadata": {
    "collapsed": true
   },
   "outputs": [],
   "source": [
    "cmp_predict = cmp_predict.reset_index()"
   ]
  },
  {
   "cell_type": "code",
   "execution_count": null,
   "metadata": {
    "collapsed": true
   },
   "outputs": [],
   "source": [
    "cmp_predict.head()"
   ]
  },
  {
   "cell_type": "code",
   "execution_count": null,
   "metadata": {
    "collapsed": true
   },
   "outputs": [],
   "source": [
    "def color(x):\n",
    "    c = 'm'\n",
    "    if x < 0:\n",
    "        c = 'g'\n",
    "    elif x > 0:\n",
    "        c = 'r'\n",
    "    else:\n",
    "        c = 'b'\n",
    "    return c\n",
    "cmp_predict['color'] = cmp_predict['diff'].map(color)"
   ]
  },
  {
   "cell_type": "code",
   "execution_count": null,
   "metadata": {
    "collapsed": true
   },
   "outputs": [],
   "source": [
    "cmp_predict.plot(kind='scatter', x='index', y='close', s=60, c=cmp_predict.color, figsize=(21, 7))"
   ]
  },
  {
   "cell_type": "code",
   "execution_count": null,
   "metadata": {
    "collapsed": true
   },
   "outputs": [],
   "source": [
    "idx300n['close'].head(600).plot.hist( bins=30, figsize=(21, 7))"
   ]
  },
  {
   "cell_type": "code",
   "execution_count": null,
   "metadata": {
    "collapsed": true
   },
   "outputs": [],
   "source": [
    "cmp_predict.tail()"
   ]
  },
  {
   "cell_type": "code",
   "execution_count": null,
   "metadata": {
    "collapsed": true
   },
   "outputs": [],
   "source": [
    "cmp_predict['predict_class'].plot.hist()"
   ]
  },
  {
   "cell_type": "code",
   "execution_count": null,
   "metadata": {
    "collapsed": true
   },
   "outputs": [],
   "source": [
    "cmp_predict['class'].plot.hist()"
   ]
  },
  {
   "cell_type": "code",
   "execution_count": null,
   "metadata": {
    "collapsed": true
   },
   "outputs": [],
   "source": [
    "cmp_predict['next_close'] = cmp_predict['close'].shift(-1)"
   ]
  },
  {
   "cell_type": "code",
   "execution_count": null,
   "metadata": {
    "collapsed": true
   },
   "outputs": [],
   "source": [
    "cmp_predict['profit'] = cmp_predict['next_close'] - cmp_predict['close']"
   ]
  },
  {
   "cell_type": "code",
   "execution_count": null,
   "metadata": {
    "collapsed": true
   },
   "outputs": [],
   "source": [
    "cmp_predict.head()"
   ]
  },
  {
   "cell_type": "code",
   "execution_count": null,
   "metadata": {
    "collapsed": true
   },
   "outputs": [],
   "source": [
    "def predict_profit(x):\n",
    "    profit = 0\n",
    "    if x['predict_class'] == 2:\n",
    "        profit = x['profit']\n",
    "    elif x['predict_class'] == 0:\n",
    "        profit = -x['profit']\n",
    "    else:\n",
    "        profit = 0\n",
    "    return profit\n",
    "cmp_predict['predict_profit'] = cmp_predict.apply(predict_profit, axis=1)"
   ]
  },
  {
   "cell_type": "code",
   "execution_count": null,
   "metadata": {
    "collapsed": true
   },
   "outputs": [],
   "source": [
    "cmp_predict['predict_profit'].cumsum().plot(figsize=(21, 7))"
   ]
  },
  {
   "cell_type": "code",
   "execution_count": null,
   "metadata": {
    "collapsed": true
   },
   "outputs": [],
   "source": [
    "cmp_predict.head(400).tail()"
   ]
  },
  {
   "cell_type": "code",
   "execution_count": null,
   "metadata": {
    "collapsed": true
   },
   "outputs": [],
   "source": [
    "cmp_predict.head()"
   ]
  },
  {
   "cell_type": "code",
   "execution_count": null,
   "metadata": {
    "collapsed": true
   },
   "outputs": [],
   "source": [
    "cmp_predict[cmp_predict['predict_class']==2]['predict_profit'].cumsum().plot(figsize=(21, 7))"
   ]
  },
  {
   "cell_type": "code",
   "execution_count": null,
   "metadata": {
    "collapsed": true
   },
   "outputs": [],
   "source": [
    "cmp_predict[cmp_predict['predict_class']==0]['predict_profit'].cumsum().plot(figsize=(21, 7))"
   ]
  },
  {
   "cell_type": "code",
   "execution_count": null,
   "metadata": {
    "collapsed": true
   },
   "outputs": [],
   "source": []
  }
 ],
 "metadata": {
  "kernelspec": {
   "display_name": "Python 3",
   "language": "python",
   "name": "python3"
  },
  "language_info": {
   "codemirror_mode": {
    "name": "ipython",
    "version": 3
   },
   "file_extension": ".py",
   "mimetype": "text/x-python",
   "name": "python",
   "nbconvert_exporter": "python",
   "pygments_lexer": "ipython3",
   "version": "3.5.3"
  }
 },
 "nbformat": 4,
 "nbformat_minor": 2
}
