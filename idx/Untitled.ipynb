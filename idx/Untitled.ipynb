{
 "cells": [
  {
   "cell_type": "code",
   "execution_count": 1,
   "metadata": {
    "collapsed": true
   },
   "outputs": [],
   "source": [
    "import matplotlib.font_manager as fm\n",
    "myfont = fm.FontProperties(fname='./msyh.ttf')"
   ]
  },
  {
   "cell_type": "code",
   "execution_count": 2,
   "metadata": {
    "collapsed": true
   },
   "outputs": [],
   "source": [
    "%matplotlib inline\n",
    "\n",
    "import numpy as np\n",
    "import pandas as pd\n",
    "import matplotlib.pyplot as plt\n",
    "from sklearn import preprocessing\n",
    "from talib.abstract import *\n",
    "import seaborn as sbn\n",
    "sbn.set()"
   ]
  },
  {
   "cell_type": "code",
   "execution_count": 34,
   "metadata": {
    "collapsed": true
   },
   "outputs": [],
   "source": [
    "mini_concept_index_pct_chg = pd.read_csv(\"mini_concept_index_pct_chg.csv\").set_index(['tradeDate']).fillna(0)\n",
    "mid_concept_index_pct_chg = pd.read_csv(\"mid_concept_index_pct_chg.csv\").set_index(['tradeDate']).fillna(0)\n",
    "big_concept_index_pct_chg = pd.read_csv(\"big_concept_index_pct_chg.csv\").set_index(['tradeDate']).fillna(0)"
   ]
  },
  {
   "cell_type": "code",
   "execution_count": null,
   "metadata": {},
   "outputs": [],
   "source": [
    "ax = mini_concept_index_pct_chg.plot(figsize=(21, 14))\n",
    "legend = ax.legend()\n",
    "for text in legend.texts:\n",
    "    text.set_font_properties(myfont)"
   ]
  },
  {
   "cell_type": "code",
   "execution_count": 35,
   "metadata": {
    "collapsed": true
   },
   "outputs": [],
   "source": [
    "mini_concept_index_pct = mini_concept_index_pct_chg + 1.0\n",
    "mid_concept_index_pct = mid_concept_index_pct_chg + 1.0\n",
    "big_concept_index_pct = big_concept_index_pct_chg + 1.0"
   ]
  },
  {
   "cell_type": "code",
   "execution_count": 5,
   "metadata": {
    "collapsed": true
   },
   "outputs": [],
   "source": [
    "from influxdb import InfluxDBClient\n",
    "from influxdb import SeriesHelper\n",
    "host = '183.136.205.102'\n",
    "port = 38086\n",
    "user = 'root'\n",
    "password = 'root'\n",
    "dbname = 'chq'\n",
    "\n",
    "myclient = InfluxDBClient(host, port, user, password, dbname)"
   ]
  },
  {
   "cell_type": "code",
   "execution_count": 62,
   "metadata": {
    "collapsed": true
   },
   "outputs": [],
   "source": [
    "id = 'test1'\n",
    "class MySeriesHelper(SeriesHelper):\n",
    "    # Meta class stores time series helper configuration.\n",
    "    class Meta:\n",
    "        # The client should be an instance of InfluxDBClient.\n",
    "        client = myclient\n",
    "        # The series name must be a string. Add dependent fields/tags in curly brackets.\n",
    "        series_name = 'idx.' + str(id)\n",
    "        # Defines all the fields in this time series.\n",
    "        fields = ['close']\n",
    "        # Defines all the tags for the series.\n",
    "        tags = ['idx_name','dtype', 'counts']\n",
    "        # Defines the number of data points to store prior to writing on the wire.\n",
    "        bulk_size = 100\n",
    "        # autocommit must be set to True when using bulk_size\n",
    "        autocommit = True"
   ]
  },
  {
   "cell_type": "code",
   "execution_count": 63,
   "metadata": {},
   "outputs": [],
   "source": [
    "def insert_to_db(data, dtype):\n",
    "    for column in data.columns:\n",
    "        for date in data.index.values:\n",
    "            counts = concept_counts.loc[concept_counts['concept_name'] == column, 'counts'].values[0]\n",
    "            close = data.loc[date, column]\n",
    "            MySeriesHelper(time=date, idx_name=column, counts=counts, dtype=dtype, close=close)\n",
    "    MySeriesHelper.commit()"
   ]
  },
  {
   "cell_type": "code",
   "execution_count": 64,
   "metadata": {
    "collapsed": true
   },
   "outputs": [],
   "source": [
    "concept = pd.read_csv(\"ths_concept.csv\", dtype={'code': str})\n",
    "concept.columns = ['concept_id', 'concept_name', 'stock_code', 'stock_name']\n",
    "concept_counts = concept.groupby(['concept_id', 'concept_name']).size().reset_index(name='counts')"
   ]
  },
  {
   "cell_type": "code",
   "execution_count": 65,
   "metadata": {},
   "outputs": [],
   "source": [
    "for data in [mini_concept_index_pct_chg, mid_concept_index_pct_chg, big_concept_index_pct_chg]:\n",
    "    insert_to_db(data, 'pct_chg')"
   ]
  },
  {
   "cell_type": "code",
   "execution_count": 66,
   "metadata": {
    "collapsed": true
   },
   "outputs": [],
   "source": [
    "mini_concept_index_cumprod = mini_concept_index_pct.cumprod()\n",
    "mid_concept_index_cumprod = mid_concept_index_pct.cumprod()\n",
    "big_concept_index_cumprod = big_concept_index_pct.cumprod()"
   ]
  },
  {
   "cell_type": "code",
   "execution_count": 91,
   "metadata": {},
   "outputs": [],
   "source": [
    "for data in [mini_concept_index_cumprod, mid_concept_index_cumprod, big_concept_index_cumprod]:\n",
    "    insert_to_db(data, 'cumprod')"
   ]
  },
  {
   "cell_type": "code",
   "execution_count": 89,
   "metadata": {},
   "outputs": [
    {
     "name": "stdout",
     "output_type": "stream",
     "text": [
      "Drop database: chq\n"
     ]
    }
   ],
   "source": [
    "client = InfluxDBClient(host, port, user, password, dbname)\n",
    "print(\"Drop database: \" + dbname)\n",
    "client.drop_database(dbname)\n"
   ]
  },
  {
   "cell_type": "code",
   "execution_count": 90,
   "metadata": {},
   "outputs": [
    {
     "name": "stdout",
     "output_type": "stream",
     "text": [
      "Create database: chq\n",
      "Create a retention policy\n"
     ]
    }
   ],
   "source": [
    "client = InfluxDBClient(host, port, user, password, dbname)\n",
    "print(\"Create database: \" + dbname)\n",
    "client.create_database(dbname)\n",
    "\n",
    "print(\"Create a retention policy\")\n",
    "client.create_retention_policy('awesome_policy', '200d', 3, default=True)\n",
    "\n",
    "#     print(\"Switch user: \" + dbuser)\n",
    "#     client.switch_user(dbuser, dbuser_password)\n",
    "\n",
    "#     print(\"Write points: {0}\".format(json_body))\n",
    "#     client.write_points(json_body)\n",
    "\n",
    "#     print(\"Querying data: \" + query)\n",
    "#     result = client.query(query)\n",
    "\n",
    "#     print(\"Result: {0}\".format(result))\n",
    "\n",
    "#     print(\"Switch user: \" + user)\n",
    "#     client.switch_user(user, password)\n",
    "\n",
    "#     print(\"Drop database: \" + dbname)\n",
    "#     client.drop_database(dbname)\n"
   ]
  },
  {
   "cell_type": "code",
   "execution_count": null,
   "metadata": {
    "collapsed": true
   },
   "outputs": [],
   "source": []
  }
 ],
 "metadata": {
  "kernelspec": {
   "display_name": "Python 3",
   "language": "python",
   "name": "python3"
  },
  "language_info": {
   "codemirror_mode": {
    "name": "ipython",
    "version": 3
   },
   "file_extension": ".py",
   "mimetype": "text/x-python",
   "name": "python",
   "nbconvert_exporter": "python",
   "pygments_lexer": "ipython3",
   "version": "3.5.3"
  }
 },
 "nbformat": 4,
 "nbformat_minor": 2
}
