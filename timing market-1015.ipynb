{
 "cells": [
  {
   "cell_type": "code",
   "execution_count": 2,
   "metadata": {
    "collapsed": true
   },
   "outputs": [],
   "source": [
    "%matplotlib inline\n",
    "import numpy as np\n",
    "import pandas as pd\n",
    "import matplotlib.pylab as plt\n",
    "import seaborn as snb\n",
    "snb.set()\n",
    "import matplotlib.font_manager as fm\n",
    "myfont = fm.FontProperties(fname='idx/msyh.ttf')"
   ]
  },
  {
   "cell_type": "code",
   "execution_count": 3,
   "metadata": {
    "collapsed": true
   },
   "outputs": [],
   "source": [
    "idx_return_df = pd.read_csv(\"idx_return_df.csv\")"
   ]
  },
  {
   "cell_type": "code",
   "execution_count": 4,
   "metadata": {
    "collapsed": true
   },
   "outputs": [],
   "source": [
    "idx_return_df = idx_return_df.drop(\"Unnamed: 0\", axis=1).set_index('tradeDate')"
   ]
  },
  {
   "cell_type": "code",
   "execution_count": 5,
   "metadata": {},
   "outputs": [
    {
     "data": {
      "text/html": [
       "<div>\n",
       "<style>\n",
       "    .dataframe thead tr:only-child th {\n",
       "        text-align: right;\n",
       "    }\n",
       "\n",
       "    .dataframe thead th {\n",
       "        text-align: left;\n",
       "    }\n",
       "\n",
       "    .dataframe tbody tr th {\n",
       "        vertical-align: top;\n",
       "    }\n",
       "</style>\n",
       "<table border=\"1\" class=\"dataframe\">\n",
       "  <thead>\n",
       "    <tr style=\"text-align: right;\">\n",
       "      <th></th>\n",
       "      <th>深证成指</th>\n",
       "      <th>沪深300</th>\n",
       "      <th>中证500</th>\n",
       "      <th>上证50</th>\n",
       "      <th>中小板指</th>\n",
       "      <th>创业板指</th>\n",
       "      <th>上证综指</th>\n",
       "    </tr>\n",
       "    <tr>\n",
       "      <th>tradeDate</th>\n",
       "      <th></th>\n",
       "      <th></th>\n",
       "      <th></th>\n",
       "      <th></th>\n",
       "      <th></th>\n",
       "      <th></th>\n",
       "      <th></th>\n",
       "    </tr>\n",
       "  </thead>\n",
       "  <tbody>\n",
       "    <tr>\n",
       "      <th>2014-01-02</th>\n",
       "      <td>1.000000</td>\n",
       "      <td>1.000000</td>\n",
       "      <td>1.000000</td>\n",
       "      <td>1.000000</td>\n",
       "      <td>1.000000</td>\n",
       "      <td>1.000000</td>\n",
       "      <td>1.000000</td>\n",
       "    </tr>\n",
       "    <tr>\n",
       "      <th>2014-01-03</th>\n",
       "      <td>0.989394</td>\n",
       "      <td>0.986563</td>\n",
       "      <td>0.991797</td>\n",
       "      <td>0.983965</td>\n",
       "      <td>1.001831</td>\n",
       "      <td>1.014881</td>\n",
       "      <td>0.987555</td>\n",
       "    </tr>\n",
       "    <tr>\n",
       "      <th>2014-01-06</th>\n",
       "      <td>0.963530</td>\n",
       "      <td>0.964108</td>\n",
       "      <td>0.964401</td>\n",
       "      <td>0.969144</td>\n",
       "      <td>0.978531</td>\n",
       "      <td>0.992742</td>\n",
       "      <td>0.969812</td>\n",
       "    </tr>\n",
       "    <tr>\n",
       "      <th>2014-01-07</th>\n",
       "      <td>0.962033</td>\n",
       "      <td>0.963833</td>\n",
       "      <td>0.970317</td>\n",
       "      <td>0.967686</td>\n",
       "      <td>0.985993</td>\n",
       "      <td>1.014458</td>\n",
       "      <td>0.970574</td>\n",
       "    </tr>\n",
       "    <tr>\n",
       "      <th>2014-01-08</th>\n",
       "      <td>0.961520</td>\n",
       "      <td>0.965516</td>\n",
       "      <td>0.971498</td>\n",
       "      <td>0.970683</td>\n",
       "      <td>0.992195</td>\n",
       "      <td>1.054028</td>\n",
       "      <td>0.969163</td>\n",
       "    </tr>\n",
       "  </tbody>\n",
       "</table>\n",
       "</div>"
      ],
      "text/plain": [
       "                深证成指     沪深300     中证500      上证50      中小板指      创业板指  \\\n",
       "tradeDate                                                                \n",
       "2014-01-02  1.000000  1.000000  1.000000  1.000000  1.000000  1.000000   \n",
       "2014-01-03  0.989394  0.986563  0.991797  0.983965  1.001831  1.014881   \n",
       "2014-01-06  0.963530  0.964108  0.964401  0.969144  0.978531  0.992742   \n",
       "2014-01-07  0.962033  0.963833  0.970317  0.967686  0.985993  1.014458   \n",
       "2014-01-08  0.961520  0.965516  0.971498  0.970683  0.992195  1.054028   \n",
       "\n",
       "                上证综指  \n",
       "tradeDate             \n",
       "2014-01-02  1.000000  \n",
       "2014-01-03  0.987555  \n",
       "2014-01-06  0.969812  \n",
       "2014-01-07  0.970574  \n",
       "2014-01-08  0.969163  "
      ]
     },
     "execution_count": 5,
     "metadata": {},
     "output_type": "execute_result"
    }
   ],
   "source": [
    "idx_return_df.head()"
   ]
  },
  {
   "cell_type": "code",
   "execution_count": null,
   "metadata": {
    "collapsed": true
   },
   "outputs": [],
   "source": [
    "zh_return = idx_return_df[idx] - idx_return_df[idx].shift(1)"
   ]
  },
  {
   "cell_type": "code",
   "execution_count": null,
   "metadata": {
    "collapsed": true
   },
   "outputs": [],
   "source": [
    "zh_return_signal = pd.concat([zh_return, up, down], axis=1)"
   ]
  },
  {
   "cell_type": "code",
   "execution_count": null,
   "metadata": {
    "collapsed": true
   },
   "outputs": [],
   "source": [
    "zh_return_signal.columns = ['idx', 'long', 'short']"
   ]
  },
  {
   "cell_type": "code",
   "execution_count": null,
   "metadata": {
    "collapsed": true
   },
   "outputs": [],
   "source": [
    "zh_return_signal['long'] = zh_return_signal['long'].shift(1)\n",
    "zh_return_signal['short'] = zh_return_signal['short'].shift(1)"
   ]
  },
  {
   "cell_type": "code",
   "execution_count": null,
   "metadata": {},
   "outputs": [],
   "source": [
    "zh_return_signal.tail()"
   ]
  },
  {
   "cell_type": "code",
   "execution_count": null,
   "metadata": {
    "collapsed": true
   },
   "outputs": [],
   "source": [
    "zh_return_signal = zh_return_signal.fillna(0)"
   ]
  },
  {
   "cell_type": "code",
   "execution_count": null,
   "metadata": {
    "collapsed": true
   },
   "outputs": [],
   "source": [
    "zh_return_signal['profit'] = zh_return_signal.apply(cal_profit, axis=1)"
   ]
  },
  {
   "cell_type": "code",
   "execution_count": null,
   "metadata": {
    "collapsed": true
   },
   "outputs": [],
   "source": [
    "def cal_profit(x):\n",
    "    if x['long'] > 0:\n",
    "        profit = x['idx']\n",
    "    elif x['short'] > 0:\n",
    "        profit = -x['idx']\n",
    "    else:\n",
    "        profit = 0\n",
    "    return profit"
   ]
  },
  {
   "cell_type": "code",
   "execution_count": null,
   "metadata": {},
   "outputs": [],
   "source": [
    "begin_date = \"2017-01-01\"\n",
    "end_date = \"2018-01-01\"\n",
    "(zh_return_signal[zh_return_signal['long'] > 0]['profit'] + 1)[begin_date:end_date].cumprod().plot(figsize=(21, 7))"
   ]
  },
  {
   "cell_type": "code",
   "execution_count": null,
   "metadata": {
    "collapsed": true
   },
   "outputs": [],
   "source": [
    "def polyfit(y, n, deg=2):\n",
    "    x = np.linspace(0, 1, n)\n",
    "    reg = np.polyfit(x, y, deg)\n",
    "    if deg == 1:\n",
    "        return reg[0]\n",
    "    elif deg == 2:\n",
    "        return reg[0] * 2 + reg[1]"
   ]
  },
  {
   "cell_type": "code",
   "execution_count": null,
   "metadata": {
    "collapsed": true
   },
   "outputs": [],
   "source": [
    "def distance_to_plant(x):\n",
    "    return (x[-1] - x[0]) / x[0]"
   ]
  },
  {
   "cell_type": "code",
   "execution_count": null,
   "metadata": {
    "collapsed": true
   },
   "outputs": [],
   "source": [
    "def fit2(df, n1, n2, n3, n4):\n",
    "    r0 = idx_return_df.rolling(30).mean()\n",
    "    r1 = r0.rolling(n1, min_periods=n1).apply(myfit,args=(n1,))\n",
    "    r2 = r1.rolling(n2).mean()\n",
    "#     r3 = r2.rolling(n3, min_periods=n3).apply(myfit,args=(n3,))\n",
    "#     r4 = r3.rolling(n4, min_periods=n4).mean()\n",
    "    return r2"
   ]
  },
  {
   "cell_type": "code",
   "execution_count": null,
   "metadata": {
    "collapsed": true
   },
   "outputs": [],
   "source": [
    "def distance(df, n_average, n_days_ago):\n",
    "    ma = df.rolling(n_average).mean()\n",
    "    ma = ma.dropna()\n",
    "    n = n_days_ago\n",
    "    d = ma.rolling(n, min_periods=n).apply(distance_to_plant)\n",
    "    return d"
   ]
  },
  {
   "cell_type": "code",
   "execution_count": null,
   "metadata": {
    "collapsed": true
   },
   "outputs": [],
   "source": [
    "def velocity(distance, n_point):\n",
    "    n = n_point\n",
    "    v = distance.rolling(n, min_periods=n).apply(polyfit, args=(n,))\n",
    "    return v"
   ]
  },
  {
   "cell_type": "code",
   "execution_count": null,
   "metadata": {
    "collapsed": true
   },
   "outputs": [],
   "source": [
    "begin_date = \"2014-01-01\"\n",
    "end_date = \"2018-01-01\"\n",
    "idx = \"沪深300\""
   ]
  },
  {
   "cell_type": "code",
   "execution_count": null,
   "metadata": {},
   "outputs": [],
   "source": [
    "ax = idx_return_df.loc[begin_date:end_date, idx].plot(figsize=(21, 7))\n",
    "legend = ax.legend()\n",
    "for text in legend.texts:\n",
    "    text.set_font_properties(myfont)"
   ]
  },
  {
   "cell_type": "code",
   "execution_count": null,
   "metadata": {
    "collapsed": true
   },
   "outputs": [],
   "source": [
    "# ax = v.loc[begin_date:end_date, idx].plot(figsize=(21, 7))\n",
    "# a.loc[begin_date:end_date, idx].plot(figsize=(21, 7))\n",
    "# legend = ax.legend()\n",
    "# for text in legend.texts:\n",
    "#     text.set_font_properties(myfont)"
   ]
  },
  {
   "cell_type": "code",
   "execution_count": null,
   "metadata": {},
   "outputs": [],
   "source": [
    "d = distance(idx_return_df, 20, 11)\n",
    "ax = d.loc[begin_date:end_date, idx].plot(figsize=(21, 7))\n",
    "v.loc[begin_date:end_date, idx].rolling(3).mean().plot(figsize=(21, 7))\n",
    "legend = ax.legend()\n",
    "for text in legend.texts:\n",
    "    text.set_font_properties(myfont)"
   ]
  },
  {
   "cell_type": "code",
   "execution_count": null,
   "metadata": {},
   "outputs": [],
   "source": [
    "v = velocity(d, 5)\n",
    "ax = v.loc[begin_date:end_date, idx].plot(figsize=(21, 7))\n",
    "legend = ax.legend()\n",
    "for text in legend.texts:\n",
    "    text.set_font_properties(myfont)"
   ]
  },
  {
   "cell_type": "code",
   "execution_count": null,
   "metadata": {},
   "outputs": [],
   "source": [
    "a = velocity(v, 10)\n",
    "ax = a.loc[begin_date:end_date, idx].plot(figsize=(21, 7))\n",
    "legend = ax.legend()\n",
    "for text in legend.texts:\n",
    "    text.set_font_properties(myfont)"
   ]
  },
  {
   "cell_type": "code",
   "execution_count": null,
   "metadata": {
    "collapsed": true
   },
   "outputs": [],
   "source": [
    "up_cond = (v[idx] > 0)  #& (a[idx]>0)"
   ]
  },
  {
   "cell_type": "code",
   "execution_count": null,
   "metadata": {
    "collapsed": true
   },
   "outputs": [],
   "source": [
    "up = idx_return_df[up_cond.index.values[0]:][up_cond==True][idx]"
   ]
  },
  {
   "cell_type": "code",
   "execution_count": null,
   "metadata": {
    "collapsed": true
   },
   "outputs": [],
   "source": [
    "down_cond = (v[idx] < 0)  #& (a[idx]<0)"
   ]
  },
  {
   "cell_type": "code",
   "execution_count": null,
   "metadata": {
    "collapsed": true
   },
   "outputs": [],
   "source": [
    "down = idx_return_df[down_cond.index.values[0]:][down_cond==True][idx]"
   ]
  },
  {
   "cell_type": "code",
   "execution_count": null,
   "metadata": {},
   "outputs": [],
   "source": [
    "up.head()"
   ]
  },
  {
   "cell_type": "code",
   "execution_count": null,
   "metadata": {},
   "outputs": [],
   "source": [
    "down.head()"
   ]
  },
  {
   "cell_type": "code",
   "execution_count": null,
   "metadata": {
    "collapsed": true
   },
   "outputs": [],
   "source": [
    "r = fit2(idx_return_df, 3, 10, 10, 10)\n",
    "ax = r.loc[begin_date:end_date, idx].plot(figsize=(21, 7))\n",
    "legend = ax.legend()\n",
    "for text in legend.texts:\n",
    "    text.set_font_properties(myfont)"
   ]
  },
  {
   "cell_type": "code",
   "execution_count": null,
   "metadata": {
    "collapsed": true
   },
   "outputs": [],
   "source": [
    "r = fit2(idx_return_df, 3, 20, 20, 20)\n",
    "ax = r.loc[begin_date:end_date, idx].plot(figsize=(21, 7))\n",
    "legend = ax.legend()\n",
    "for text in legend.texts:\n",
    "    text.set_font_properties(myfont)"
   ]
  },
  {
   "cell_type": "code",
   "execution_count": null,
   "metadata": {
    "collapsed": true
   },
   "outputs": [],
   "source": [
    "r = fit2(idx_return_df, 3, 30, 30, 30)\n",
    "ax = r.loc[begin_date:end_date, idx].plot(figsize=(21, 7))\n",
    "legend = ax.legend()\n",
    "for text in legend.texts:\n",
    "    text.set_font_properties(myfont)"
   ]
  },
  {
   "cell_type": "code",
   "execution_count": null,
   "metadata": {
    "collapsed": true
   },
   "outputs": [],
   "source": [
    "r = fit2(idx_return_df, 3, 60, 60, 60)\n",
    "ax = r.loc[begin_date:end_date, idx].plot(figsize=(21, 7))\n",
    "legend = ax.legend()\n",
    "for text in legend.texts:\n",
    "    text.set_font_properties(myfont)"
   ]
  },
  {
   "cell_type": "code",
   "execution_count": null,
   "metadata": {
    "collapsed": true
   },
   "outputs": [],
   "source": []
  }
 ],
 "metadata": {
  "kernelspec": {
   "display_name": "Python 3",
   "language": "python",
   "name": "python3"
  },
  "language_info": {
   "codemirror_mode": {
    "name": "ipython",
    "version": 3
   },
   "file_extension": ".py",
   "mimetype": "text/x-python",
   "name": "python",
   "nbconvert_exporter": "python",
   "pygments_lexer": "ipython3",
   "version": "3.5.3"
  }
 },
 "nbformat": 4,
 "nbformat_minor": 2
}
