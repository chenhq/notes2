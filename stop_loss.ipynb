{
 "cells": [
  {
   "cell_type": "markdown",
   "metadata": {},
   "source": [
    "### 止损"
   ]
  },
  {
   "cell_type": "code",
   "execution_count": 40,
   "metadata": {
    "collapsed": true
   },
   "outputs": [],
   "source": [
    "def close_signal_computing(ohlcv, open_signal, computing_func, **kwargs):\n",
    "    df = pd.concat([market, open_signal], axis=1)\n",
    "    columns = market.columns\n",
    "    columns.append('open_signal')\n",
    "    df.columns = columns\n",
    "    df['close_signal'] = 0\n",
    "    open_status = False\n",
    "    for idx, row in df.iterrows():\n",
    "        if open_status:\n",
    "            if df.loc[idx, 'open_signal'] > 0:\n",
    "                continue\n",
    "            \n",
    "            close_signal = compose_func(df, open_idx, end_idx, **kwargs)\n",
    "            if close_signal > 0:\n",
    "                open_status = False\n",
    "                df.loc[idx]['close_signal'] = 1\n",
    "            else:\n",
    "                continue\n",
    "        else:\n",
    "            if df.loc[idx, 'open_signal'] > 0:\n",
    "                open_status = True   \n",
    "                open_idx = idx\n",
    "                df.loc[idx]['close_signal'] = 1\n",
    "    return df['close_signal']"
   ]
  },
  {
   "cell_type": "code",
   "execution_count": 41,
   "metadata": {
    "collapsed": true
   },
   "outputs": [],
   "source": [
    "# withdraw_pct, min_return, max_loss_pct, withdraw=0\n",
    "def max_loss(df, open_idx, end_idx, loss_pct, loss_value=0):\n",
    "    init_value = df.loc[open_idx]['open']\n",
    "    cur_value = df.loc[end_idx]['close']\n",
    "    cur_return = cur_value - init_value\n",
    "    \n",
    "    if loss_pct == 0:\n",
    "        loss_pct = loss_value * 1.0 / init_value\n",
    "    if loss_value == 0:\n",
    "        loss_value = init_value * loss_pct\n",
    "    if cur_return < - loss_value and cur_return/init_value < -loss_pct:\n",
    "        return 1\n",
    "    else:\n",
    "        return 0"
   ]
  },
  {
   "cell_type": "code",
   "execution_count": 44,
   "metadata": {
    "collapsed": true
   },
   "outputs": [],
   "source": [
    "# withdraw_pct, min_return, max_loss_pct, withdraw=0\n",
    "def max_return(df, open_idx, end_idx, return_pct, return_value=0):\n",
    "    init_value = df.loc[open_idx]['open']\n",
    "    cur_value = df.loc[end_idx]['close']\n",
    "    cur_return = cur_value - init_value\n",
    "    \n",
    "    if return_pct == 0:\n",
    "        return_pct = return_value * 1.0 / init_value\n",
    "    if return_value == 0:\n",
    "        return_value = init_value * return_pct\n",
    "    if cur_return > return_value and cur_return/init_value > return_pct:\n",
    "        return 1\n",
    "    else:\n",
    "        return 0"
   ]
  },
  {
   "cell_type": "code",
   "execution_count": 46,
   "metadata": {
    "collapsed": true
   },
   "outputs": [],
   "source": [
    "def close_signal_compose(open_signal, close_signal_1, close_signal_2, how):\n",
    "    df = pd.concat([open_signal, close_signal_1, close_signal_2], axis=1)\n",
    "    df.columns = ['open_signal', 'close_signal_1', 'close_signal_2']\n",
    "    df['new_close_signal'] = 0\n",
    "    \n",
    "    open_status = False\n",
    "    for idx, row in df.iterrows():\n",
    "        if open_status:\n",
    "            if df.loc[idx, 'open_signal'] > 0:\n",
    "                continue\n",
    "                \n",
    "            if how == \"or\":\n",
    "                if df.loc[idx]['close_signal_1'] >0 or df.loc[idx]['close_signal_2'] >0:\n",
    "                    open_status = False\n",
    "                    df.loc[idx]['new_close_signal'] = 1\n",
    "            if how == \"and\":\n",
    "                if df.loc[idx]['close_signal_1'] >0 and df.loc[idx]['close_signal_2'] >0:\n",
    "                    open_status = False\n",
    "                    df.loc[idx]['new_close_signal'] = 1\n",
    "        else:\n",
    "            if df.loc[idx, 'open_signal'] > 0:\n",
    "                open_status = True   \n",
    "    return df['new_close_signal']"
   ]
  },
  {
   "cell_type": "code",
   "execution_count": 17,
   "metadata": {
    "collapsed": true
   },
   "outputs": [],
   "source": [
    "def withdraw_by_atr(market, open_signal, atr_times, min_return, max_loss_pct, withdraw=0):\n",
    "    \n",
    "    return df['close_signal']"
   ]
  },
  {
   "cell_type": "code",
   "execution_count": 3,
   "metadata": {
    "collapsed": true
   },
   "outputs": [],
   "source": [
    "def withdraw_by_breakthrough(market, open_signal):\n",
    "    pass"
   ]
  },
  {
   "cell_type": "code",
   "execution_count": 4,
   "metadata": {
    "collapsed": true
   },
   "outputs": [],
   "source": [
    "def stop_loss_by_std(market, open_signal, std_times):\n",
    "    pass"
   ]
  },
  {
   "cell_type": "code",
   "execution_count": 5,
   "metadata": {
    "collapsed": true
   },
   "outputs": [],
   "source": [
    "def stop_loss_by_ma(market, open_signal, n_ma):\n",
    "    pass"
   ]
  },
  {
   "cell_type": "code",
   "execution_count": 6,
   "metadata": {
    "collapsed": true
   },
   "outputs": [],
   "source": [
    "def stop_loss_by_kline(market, open_signal, k_line_features):\n",
    "    pass"
   ]
  },
  {
   "cell_type": "code",
   "execution_count": 7,
   "metadata": {
    "collapsed": true
   },
   "outputs": [],
   "source": [
    "def stop_loss_by_macd(market, open_signal):\n",
    "    pass"
   ]
  },
  {
   "cell_type": "code",
   "execution_count": 8,
   "metadata": {
    "collapsed": true
   },
   "outputs": [],
   "source": [
    "def stop_loss_by_kdj(market, open_signal):\n",
    "    pass"
   ]
  },
  {
   "cell_type": "code",
   "execution_count": 9,
   "metadata": {
    "collapsed": true
   },
   "outputs": [],
   "source": [
    "def stop_lost_by_sar(ma):\n",
    "    pass"
   ]
  },
  {
   "cell_type": "code",
   "execution_count": null,
   "metadata": {
    "collapsed": true
   },
   "outputs": [],
   "source": []
  }
 ],
 "metadata": {
  "kernelspec": {
   "display_name": "Python 3",
   "language": "python",
   "name": "python3"
  },
  "language_info": {
   "codemirror_mode": {
    "name": "ipython",
    "version": 3
   },
   "file_extension": ".py",
   "mimetype": "text/x-python",
   "name": "python",
   "nbconvert_exporter": "python",
   "pygments_lexer": "ipython3",
   "version": "3.5.3"
  }
 },
 "nbformat": 4,
 "nbformat_minor": 2
}
